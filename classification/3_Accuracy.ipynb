{
 "cells": [
  {
   "cell_type": "markdown",
   "metadata": {},
   "source": [
    "## Come misuriamo l'accuratezza di un algoritmo di classificazione?"
   ]
  },
  {
   "cell_type": "markdown",
   "metadata": {},
   "source": [
    "Considera un vettore target y_target = [0,1,1,1,1,0,1,0,1,0]\n",
    "\n",
    "Supponiamo che un certo algoritmo Z dia come risultato del metodo Z.predict(x) un vettore y_pred = [1,1,0,1,1,0,0,0,1,0]\n",
    "\n",
    "Scrivi una funzione che misuri la bontà della stima. La funzione my_accuracy_score() deve restituire un valore da 0 a 1.\n"
   ]
  },
  {
   "cell_type": "code",
   "execution_count": 7,
   "metadata": {},
   "outputs": [],
   "source": [
    "def my_accuracy_score(y_target, y_pred):\n",
    "    count = 0\n",
    "    for y_t, y_p in zip(y_target, y_pred):\n",
    "        if y_t == y_p:\n",
    "            count = count + 1\n",
    "    return count/len(y_target)"
   ]
  },
  {
   "cell_type": "code",
   "execution_count": 8,
   "metadata": {},
   "outputs": [
    {
     "data": {
      "text/plain": [
       "0.7"
      ]
     },
     "execution_count": 8,
     "metadata": {},
     "output_type": "execute_result"
    }
   ],
   "source": [
    "my_accuracy_score([0,1,1,1,1,0,1,0,1,0],[1,1,0,1,1,0,0,0,1,0])"
   ]
  }
 ],
 "metadata": {
  "kernelspec": {
   "display_name": "Python 3",
   "language": "python",
   "name": "python3"
  },
  "language_info": {
   "codemirror_mode": {
    "name": "ipython",
    "version": 3
   },
   "file_extension": ".py",
   "mimetype": "text/x-python",
   "name": "python",
   "nbconvert_exporter": "python",
   "pygments_lexer": "ipython3",
   "version": "3.8.6"
  }
 },
 "nbformat": 4,
 "nbformat_minor": 4
}
