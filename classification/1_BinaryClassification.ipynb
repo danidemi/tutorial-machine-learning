{
 "cells": [
  {
   "cell_type": "markdown",
   "metadata": {},
   "source": [
    "# Binary Classification"
   ]
  },
  {
   "cell_type": "markdown",
   "metadata": {},
   "source": [
    "## Dataset"
   ]
  },
  {
   "cell_type": "markdown",
   "metadata": {},
   "source": [
    "Come dataset di riferimento utilizziamo il MNIST: [dataset](./2_MNIST.ipynb)."
   ]
  },
  {
   "cell_type": "markdown",
   "metadata": {},
   "source": [
    "#### Prendiamo un dataset del MNIST"
   ]
  },
  {
   "cell_type": "code",
   "execution_count": null,
   "metadata": {},
   "outputs": [],
   "source": [
    "#from sklearn.datasets import fetch_openml\n",
    "#mnist = fetch_openml('mnist_784', version=1)"
   ]
  },
  {
   "cell_type": "code",
   "execution_count": 1,
   "metadata": {},
   "outputs": [],
   "source": [
    "from sklearn import datasets\n",
    "import numpy as np\n",
    "\n",
    "mnist = datasets.load_digits()\n",
    "mnist['target'] = mnist['target'].astype(np.int)"
   ]
  },
  {
   "cell_type": "code",
   "execution_count": 3,
   "metadata": {},
   "outputs": [
    {
     "data": {
      "text/plain": [
       "array([0, 1, 2, 3, 4, 5, 6, 7, 8, 9])"
      ]
     },
     "execution_count": 3,
     "metadata": {},
     "output_type": "execute_result"
    }
   ],
   "source": [
    "np.unique(mnist.target)"
   ]
  },
  {
   "cell_type": "code",
   "execution_count": 4,
   "metadata": {},
   "outputs": [
    {
     "data": {
      "text/plain": [
       "dict_keys(['data', 'target', 'frame', 'feature_names', 'target_names', 'images', 'DESCR'])"
      ]
     },
     "execution_count": 4,
     "metadata": {},
     "output_type": "execute_result"
    }
   ],
   "source": [
    "mnist.keys()"
   ]
  },
  {
   "cell_type": "code",
   "execution_count": 5,
   "metadata": {},
   "outputs": [],
   "source": [
    "X = mnist.data\n",
    "y = mnist.target"
   ]
  },
  {
   "cell_type": "code",
   "execution_count": 22,
   "metadata": {},
   "outputs": [],
   "source": [
    "from sklearn.model_selection import train_test_split\n",
    "\n",
    "#Train test split\n",
    "X_train, X_test, y_train, y_test = train_test_split(X, y, test_size=0.2, shuffle=True, random_state=3)"
   ]
  },
  {
   "cell_type": "code",
   "execution_count": 23,
   "metadata": {},
   "outputs": [
    {
     "data": {
      "text/plain": [
       "'abbiamo 1437 records di training e 360 records di test'"
      ]
     },
     "execution_count": 23,
     "metadata": {},
     "output_type": "execute_result"
    }
   ],
   "source": [
    "\"abbiamo {} records di training e {} records di test\".format(str(len(X_train)),str(len(X_test)))"
   ]
  },
  {
   "cell_type": "markdown",
   "metadata": {},
   "source": [
    "# Binary Classifier"
   ]
  },
  {
   "cell_type": "markdown",
   "metadata": {},
   "source": [
    "Le classi che troviamo in y sono i numeri da 0 a 9"
   ]
  },
  {
   "cell_type": "markdown",
   "metadata": {},
   "source": [
    "Come primo step affrontiamo il problema in maniera binaria:\n",
    "\n",
    "dato un numero vogliamo essere in grado di dire se è un 5 o non è un 5"
   ]
  },
  {
   "cell_type": "code",
   "execution_count": 24,
   "metadata": {},
   "outputs": [],
   "source": [
    "y_train_5 = (y_train == 5) #se y_train = 5 metti True, se y_train != 5 metti False\n",
    "y_test_5 = (y_test == 5)"
   ]
  },
  {
   "cell_type": "code",
   "execution_count": 25,
   "metadata": {},
   "outputs": [],
   "source": [
    "y_train_5 = y_train_5.astype(np.int)\n",
    "y_test_5 = y_test_5.astype(np.int)"
   ]
  },
  {
   "cell_type": "code",
   "execution_count": 26,
   "metadata": {},
   "outputs": [
    {
     "data": {
      "text/plain": [
       "array([0, 0, 0, ..., 0, 0, 0])"
      ]
     },
     "execution_count": 26,
     "metadata": {},
     "output_type": "execute_result"
    }
   ],
   "source": [
    "y_train_5"
   ]
  },
  {
   "cell_type": "code",
   "execution_count": 27,
   "metadata": {},
   "outputs": [
    {
     "data": {
      "text/plain": [
       "array([0, 1, 2, 3, 4, 5, 6, 7, 8, 9])"
      ]
     },
     "execution_count": 27,
     "metadata": {},
     "output_type": "execute_result"
    }
   ],
   "source": [
    "np.unique(y_train)"
   ]
  },
  {
   "cell_type": "markdown",
   "metadata": {},
   "source": [
    "Ora che i dati sono pronti, facciamo training!"
   ]
  },
  {
   "cell_type": "markdown",
   "metadata": {},
   "source": [
    "## Support Vector Machines\n",
    "\n",
    "[Support Vector Machines](./4_BinarySupportVectorMachine.ipynb)"
   ]
  },
  {
   "cell_type": "code",
   "execution_count": 28,
   "metadata": {},
   "outputs": [
    {
     "data": {
      "text/plain": [
       "SVC()"
      ]
     },
     "execution_count": 28,
     "metadata": {},
     "output_type": "execute_result"
    }
   ],
   "source": [
    "from sklearn.svm import SVC\n",
    "\n",
    "svm_clf = SVC()\n",
    "svm_clf.fit(X_train, y_train_5)\n"
   ]
  },
  {
   "cell_type": "code",
   "execution_count": 29,
   "metadata": {},
   "outputs": [
    {
     "data": {
      "text/plain": [
       "array([0])"
      ]
     },
     "execution_count": 29,
     "metadata": {},
     "output_type": "execute_result"
    }
   ],
   "source": [
    "svm_clf.predict([X_train[10]])"
   ]
  },
  {
   "cell_type": "code",
   "execution_count": 30,
   "metadata": {},
   "outputs": [
    {
     "data": {
      "text/plain": [
       "0"
      ]
     },
     "execution_count": 30,
     "metadata": {},
     "output_type": "execute_result"
    }
   ],
   "source": [
    "y_train_5[10] #Non è un 5"
   ]
  },
  {
   "cell_type": "code",
   "execution_count": 31,
   "metadata": {},
   "outputs": [
    {
     "data": {
      "text/plain": [
       "4"
      ]
     },
     "execution_count": 31,
     "metadata": {},
     "output_type": "execute_result"
    }
   ],
   "source": [
    "y_train[10] #La foto rappresenta un 6 quindi 'non è un 5'"
   ]
  },
  {
   "cell_type": "markdown",
   "metadata": {},
   "source": [
    "#### DOMANDA: \n",
    "* dato l'elemento X_train[10], a quale classe viene associato dal modello svm_clf? \n",
    "* la classe stimata corrisponde alla classe vera?"
   ]
  },
  {
   "cell_type": "markdown",
   "metadata": {},
   "source": [
    "## Accuracy"
   ]
  },
  {
   "cell_type": "markdown",
   "metadata": {},
   "source": [
    "#### Come **misuriamo** se il nostro algoritmo di classificazione è buono?"
   ]
  },
  {
   "cell_type": "markdown",
   "metadata": {},
   "source": [
    "ESERCIZIO: [accuracy function](./3_Accuracy.ipynb)."
   ]
  },
  {
   "cell_type": "markdown",
   "metadata": {},
   "source": [
    "### Accuracy Score"
   ]
  },
  {
   "cell_type": "code",
   "execution_count": 32,
   "metadata": {},
   "outputs": [
    {
     "data": {
      "text/plain": [
       "0.7"
      ]
     },
     "execution_count": 32,
     "metadata": {},
     "output_type": "execute_result"
    }
   ],
   "source": [
    "from sklearn.metrics import accuracy_score\n",
    "y_pred = [0,1,1,1,1,0,1,0,1,0]\n",
    "y_true = [1,1,0,1,1,0,0,0,1,0]\n",
    "accuracy_score(y_true, y_pred)\n"
   ]
  },
  {
   "cell_type": "code",
   "execution_count": 33,
   "metadata": {},
   "outputs": [
    {
     "data": {
      "text/plain": [
       "0.9986082115518441"
      ]
     },
     "execution_count": 33,
     "metadata": {},
     "output_type": "execute_result"
    }
   ],
   "source": [
    "y_pred_5 = svm_clf.predict(X_train)\n",
    "accuracy_score(y_train_5, y_pred_5)"
   ]
  },
  {
   "cell_type": "markdown",
   "metadata": {},
   "source": [
    "## Cross Validation"
   ]
  },
  {
   "cell_type": "code",
   "execution_count": 34,
   "metadata": {},
   "outputs": [
    {
     "name": "stdout",
     "output_type": "stream",
     "text": [
      "[0.99652778 0.99652778 0.99651568 1.         0.99303136]\n",
      "Mean 0.99652\n",
      "Standard Dev 0.00220\n"
     ]
    }
   ],
   "source": [
    "from sklearn.model_selection import cross_val_score\n",
    "\n",
    "#cv è il numero di sottoinsiemi in cui si vuole dividere X_train\n",
    "#scoring specifica quale funzione si vuole usare per calcolare la bontà del modello\n",
    "\n",
    "scores = cross_val_score(svm_clf, X_train, y_train_5, cv = 5, scoring = \"accuracy\")\n",
    "print(scores)\n",
    "print(\"Mean %0.5f\"%scores.mean())\n",
    "print(\"Standard Dev %0.5f\"%scores.std())"
   ]
  },
  {
   "cell_type": "code",
   "execution_count": 36,
   "metadata": {},
   "outputs": [],
   "source": [
    "from sklearn.base import BaseEstimator\n",
    "\n",
    "class Never5Classifier(BaseEstimator):\n",
    "    #Il metodo fit non fa nulla\n",
    "    def fit(self, X, y=None):\n",
    "        return self\n",
    "    \n",
    "    #Il metodo predict genera un array di 0: qualsiasi X riceve in input la classifica come \"non 5\"\n",
    "    def predict(self, X):\n",
    "        return np.zeros((len(X), 1), dtype=int)"
   ]
  },
  {
   "cell_type": "code",
   "execution_count": 46,
   "metadata": {},
   "outputs": [],
   "source": [
    "never_5_classifier = Never5Classifier()\n",
    "never_5_classifier.fit(X_train, y_train_5)\n",
    "scores = cross_val_score(never_5_classifier, X_train, y_train_5, cv = 5, scoring = \"accuracy\")\n",
    "never_5_predict = never_5_classifier.predict(X_train)"
   ]
  },
  {
   "cell_type": "code",
   "execution_count": 38,
   "metadata": {
    "scrolled": true
   },
   "outputs": [
    {
     "name": "stdout",
     "output_type": "stream",
     "text": [
      "[0.92708333 0.88194444 0.89547038 0.87456446 0.91986063]\n",
      "Mean 0.89978\n",
      "Standard Dev 0.02060\n"
     ]
    }
   ],
   "source": [
    "print(scores)\n",
    "print(\"Mean %0.5f\"%scores.mean())\n",
    "print(\"Standard Dev %0.5f\"%scores.std())"
   ]
  },
  {
   "cell_type": "markdown",
   "metadata": {},
   "source": [
    "## Come mai abbiamo ottenuto un valore così alto?"
   ]
  },
  {
   "cell_type": "markdown",
   "metadata": {},
   "source": [
    "L'accuratezza non è sempre il modo migliore per misurare le performance di un algoritmo di classificazione, soprattutto quando parliamo di *skewed datasets* (cioè quando una classe è molto più presente di un'altra)."
   ]
  },
  {
   "cell_type": "markdown",
   "metadata": {},
   "source": [
    "## Confusion Matrix"
   ]
  },
  {
   "cell_type": "markdown",
   "metadata": {},
   "source": [
    "L'idea è quella di contare quante volte i '5' sono stati interpretati come 'non 5' e quante volte i 'non 5' sono invece stati interpretati come '5'"
   ]
  },
  {
   "cell_type": "markdown",
   "metadata": {},
   "source": [
    "Torniamo a considerare il caso:\n",
    " y_true = [1,1,0,1,1,0,0,0,1,0]\n",
    " y_pred = [0,1,1,1,1,0,1,0,1,0]\n"
   ]
  },
  {
   "cell_type": "code",
   "execution_count": 39,
   "metadata": {},
   "outputs": [
    {
     "data": {
      "text/plain": [
       "array([[3, 2],\n",
       "       [1, 4]], dtype=int64)"
      ]
     },
     "execution_count": 39,
     "metadata": {},
     "output_type": "execute_result"
    }
   ],
   "source": [
    "from sklearn.metrics import confusion_matrix\n",
    "\n",
    "y_true = [1,1,0,1,1,0,0,0,1,0]\n",
    "y_pred = [0,1,1,1,1,0,1,0,1,0]\n",
    "\n",
    "confusion_matrix(y_true, y_pred)\n"
   ]
  },
  {
   "cell_type": "markdown",
   "metadata": {},
   "source": [
    "La definizione è la seguente: "
   ]
  },
  {
   "cell_type": "markdown",
   "metadata": {},
   "source": [
    "By definition a confusion matrix  is such that the element (i,j) is equal to the number of observations known to be in group  i and predicted to be in group j."
   ]
  },
  {
   "cell_type": "code",
   "execution_count": 40,
   "metadata": {},
   "outputs": [
    {
     "data": {
      "text/plain": [
       "<matplotlib.axes._subplots.AxesSubplot at 0x1c053160>"
      ]
     },
     "execution_count": 40,
     "metadata": {},
     "output_type": "execute_result"
    },
    {
     "data": {
      "image/png": "[encoded data removed]",
      "text/plain": [
       "<Figure size 432x288 with 2 Axes>"
      ]
     },
     "metadata": {
      "needs_background": "light"
     },
     "output_type": "display_data"
    }
   ],
   "source": [
    "import scikitplot as skplt\n",
    "\n",
    "skplt.metrics.plot_confusion_matrix(y_true, y_pred)"
   ]
  },
  {
   "cell_type": "code",
   "execution_count": 41,
   "metadata": {},
   "outputs": [
    {
     "data": {
      "text/plain": [
       "<matplotlib.axes._subplots.AxesSubplot at 0x1d0eddd8>"
      ]
     },
     "execution_count": 41,
     "metadata": {},
     "output_type": "execute_result"
    },
    {
     "data": {
      "image/png": "[encoded data removed]",
      "text/plain": [
       "<Figure size 432x288 with 2 Axes>"
      ]
     },
     "metadata": {
      "needs_background": "light"
     },
     "output_type": "display_data"
    }
   ],
   "source": [
    "skplt.metrics.plot_confusion_matrix(y_true, y_pred, normalize=True)"
   ]
  },
  {
   "cell_type": "markdown",
   "metadata": {},
   "source": [
    "Un classificatore perfetto genererà una *confusion matrix* con 1 sulla diagonale e 0 in tutti gli altri valori."
   ]
  },
  {
   "cell_type": "markdown",
   "metadata": {},
   "source": [
    "L'elemento (0,0) prende il nome di **True Negative**, mentre l'elemento (1,1) viene definito **True Positive**"
   ]
  },
  {
   "cell_type": "markdown",
   "metadata": {},
   "source": [
    "Essendo che una confusion matrix ci restituisce tanti valori, vogliamo estrarre dei numeri che ci dicano se la stima è buona o meno."
   ]
  },
  {
   "cell_type": "markdown",
   "metadata": {},
   "source": [
    "Si dice **Precision** il numero di TP / (TP + FP) = 4 / (4 + 2) = 2/3 = 0.66666"
   ]
  },
  {
   "cell_type": "markdown",
   "metadata": {},
   "source": [
    "La *Precision* si calcola rispetto alla seconda colonna: abbiamo detto che sei foto erano '5' in realtà erano solo 4."
   ]
  },
  {
   "cell_type": "markdown",
   "metadata": {},
   "source": [
    "Il problema della precision è che non ci dice nulla sui falsi negativi:\n",
    "    "
   ]
  },
  {
   "cell_type": "code",
   "execution_count": 42,
   "metadata": {},
   "outputs": [
    {
     "data": {
      "text/plain": [
       "<matplotlib.axes._subplots.AxesSubplot at 0x1d15dca0>"
      ]
     },
     "execution_count": 42,
     "metadata": {},
     "output_type": "execute_result"
    },
    {
     "data": {
      "image/png": "[encoded data removed]",
      "text/plain": [
       "<Figure size 432x288 with 2 Axes>"
      ]
     },
     "metadata": {
      "needs_background": "light"
     },
     "output_type": "display_data"
    }
   ],
   "source": [
    "y_pred = [1,0,0,0,0,0,0,0,0,0]\n",
    "y_true = [1,1,1,1,1,1,1,1,1,1]\n",
    "\n",
    "skplt.metrics.plot_confusion_matrix(y_true, y_pred)"
   ]
  },
  {
   "cell_type": "markdown",
   "metadata": {},
   "source": [
    "L'unica volta che abbiamo predetto 1 abbiamo detto giusto: la precisione è massima: 1.\n",
    "Però non stiamo considerando che per 9 volte abbiamo detto di avere 0 quando invece era 1!"
   ]
  },
  {
   "cell_type": "markdown",
   "metadata": {},
   "source": [
    "Mentre si indica con **Sensitivity** o **Recall** il numero di TP/ (TP + FN) = 1/ (1 + 9) = 0.1"
   ]
  },
  {
   "cell_type": "markdown",
   "metadata": {},
   "source": [
    "Torniamo al caso reale:"
   ]
  },
  {
   "cell_type": "code",
   "execution_count": 44,
   "metadata": {},
   "outputs": [
    {
     "data": {
      "text/plain": [
       "<matplotlib.axes._subplots.AxesSubplot at 0x1d1f6868>"
      ]
     },
     "execution_count": 44,
     "metadata": {},
     "output_type": "execute_result"
    },
    {
     "data": {
      "image/png": "[encoded data removed]",
      "text/plain": [
       "<Figure size 432x288 with 2 Axes>"
      ]
     },
     "metadata": {
      "needs_background": "light"
     },
     "output_type": "display_data"
    }
   ],
   "source": [
    "skplt.metrics.plot_confusion_matrix(y_train_5, y_pred_5, normalize=True)"
   ]
  },
  {
   "cell_type": "markdown",
   "metadata": {},
   "source": [
    "### Caso Never5Classifier (predict = 0 sempre)"
   ]
  },
  {
   "cell_type": "code",
   "execution_count": 50,
   "metadata": {},
   "outputs": [
    {
     "data": {
      "text/plain": [
       "<matplotlib.axes._subplots.AxesSubplot at 0x1d2e8a90>"
      ]
     },
     "execution_count": 50,
     "metadata": {},
     "output_type": "execute_result"
    },
    {
     "data": {
      "image/png": "[encoded data removed]",
      "text/plain": [
       "<Figure size 432x288 with 2 Axes>"
      ]
     },
     "metadata": {
      "needs_background": "light"
     },
     "output_type": "display_data"
    }
   ],
   "source": [
    "skplt.metrics.plot_confusion_matrix(y_train_5, never_5_predict)"
   ]
  },
  {
   "cell_type": "code",
   "execution_count": 52,
   "metadata": {},
   "outputs": [
    {
     "name": "stdout",
     "output_type": "stream",
     "text": [
      "Precision Score: 0.0 Recall Score 0.0\n"
     ]
    }
   ],
   "source": [
    "from sklearn.metrics import precision_score, recall_score\n",
    "precision_score = precision_score(y_train_5, never_5_predict)\n",
    "recall_score = recall_score(y_train_5, never_5_predict)\n",
    "print('Precision Score: {} Recall Score {}'.format(precision_score,recall_score))"
   ]
  },
  {
   "cell_type": "markdown",
   "metadata": {},
   "source": [
    "Nel nostro caso:\n",
    "    * Quando abbiamo predetto un 5, effettivamente era un 5 -> precision = 1\n",
    "    * Per due volte abbiamo classificato un '5' come un 'non 5' -> recall = 142/146"
   ]
  },
  {
   "cell_type": "code",
   "execution_count": 45,
   "metadata": {},
   "outputs": [
    {
     "name": "stdout",
     "output_type": "stream",
     "text": [
      "Precision Score: 1.0 Recall Score 0.9861111111111112\n"
     ]
    }
   ],
   "source": [
    "from sklearn.metrics import precision_score, recall_score\n",
    "precision_score = precision_score(y_train_5, y_pred_5)\n",
    "recall_score = recall_score(y_train_5, y_pred_5)\n",
    "print('Precision Score: {} Recall Score {}'.format(precision_score,recall_score))"
   ]
  },
  {
   "cell_type": "markdown",
   "metadata": {},
   "source": [
    "### Riassumendo:\n",
    "dato un modello di classificazione binaria, per capire se il modello è buono si può procedere in due modi:\n",
    "    * accuracy_score(y_train_5, y_pred_5)\n",
    "    * skplt.metrics.plot_confusion_matrix(y_train_5, y_pred_5)\n",
    "    * precision_score(y_train_5, y_pred_5)\n",
    "    * recall_score(y_train_5, y_pred_5)\n",
    "  \n",
    "Nota che nella cross_val_score lo scoring non deve per forza essere accuracy, anche precision, recall,balanced_accuracy,... sono accettati (https://scikit-learn.org/stable/modules/model_evaluation.html#scoring-parameter) "
   ]
  },
  {
   "cell_type": "markdown",
   "metadata": {},
   "source": [
    "ESERCIZIO: considera sempre il dataset load_digits(): utilizzando il SVC() scrivi un modello che sia in grado di distinguere tra i numeri '1' e tutti gli altri. \n",
    "* Calcola la cross_val_score per l'accuracy\n",
    "* Calcola la confusion_matrix;\n",
    "* Calcola la precision;\n",
    "* Calcola la recall;\n",
    "\n",
    "[soluzione](./soluzione/1vsRest.ipynb)"
   ]
  },
  {
   "cell_type": "code",
   "execution_count": null,
   "metadata": {},
   "outputs": [],
   "source": []
  }
 ],
 "metadata": {
  "kernelspec": {
   "display_name": "Python 3",
   "language": "python",
   "name": "python3"
  },
  "language_info": {
   "codemirror_mode": {
    "name": "ipython",
    "version": 3
   },
   "file_extension": ".py",
   "mimetype": "text/x-python",
   "name": "python",
   "nbconvert_exporter": "python",
   "pygments_lexer": "ipython3",
   "version": "3.8.6"
  }
 },
 "nbformat": 4,
 "nbformat_minor": 4
}
