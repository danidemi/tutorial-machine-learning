{
 "cells": [
  {
   "cell_type": "markdown",
   "metadata": {},
   "source": [
    "# Multiclass Classifier"
   ]
  },
  {
   "cell_type": "markdown",
   "metadata": {},
   "source": [
    "Abbiamo visto come utilizzare un classifier per distinguere le immagini che contenevano un '5' dalle immagini che 'non contenevano un 5'. Supponiamo ora di voler essere in grado di distinguere tutti i numeri da 0 a 9, allora ci serve un multiclass classifier."
   ]
  },
  {
   "cell_type": "markdown",
   "metadata": {},
   "source": [
    "Il SVM è un algoritmo che è nativamente binario, cioè non è in grado di gestire più classi contemporaneamete. Tuttavia esistono delle strategie che permettono di usare classificatori binari anche nel contesto delle multiclassi."
   ]
  },
  {
   "cell_type": "markdown",
   "metadata": {},
   "source": [
    "### One - Versus - Rest  "
   ]
  },
  {
   "cell_type": "markdown",
   "metadata": {},
   "source": [
    "Un modo per poter classificare i numeri da 0 a 9 è quello di fare il training di 10 modelli di SVM diversi:\n",
    "* '1' contro 'non 1'\n",
    "* '2' contro 'non 2'\n",
    "* ...\n",
    "* '9' contro 'non 9'\n",
    "\n",
    "Una volta che si hanno i 10 classificatori, all'arrivo di una nuova immagine si calcola per ognuno il **decision-score** (nel caso del SVM la decision_function), la classe con lo score più alto vince!"
   ]
  },
  {
   "cell_type": "code",
   "execution_count": null,
   "metadata": {},
   "outputs": [],
   "source": [
    "from sklearn import datasets\n",
    "import numpy as np\n",
    "\n",
    "mnist = datasets.load_digits()\n",
    "mnist['target'] = mnist['target'].astype(np.int)"
   ]
  },
  {
   "cell_type": "code",
   "execution_count": null,
   "metadata": {},
   "outputs": [],
   "source": [
    "from sklearn.model_selection import train_test_split\n",
    "\n",
    "X = mnist['data']\n",
    "y = mnist['target']\n",
    "\n",
    "X_train, X_test, y_train, y_test = train_test_split(mnist.data, mnist.target, test_size=0.2, shuffle=True, random_state = 6)"
   ]
  },
  {
   "cell_type": "code",
   "execution_count": null,
   "metadata": {},
   "outputs": [],
   "source": [
    "from sklearn.svm import SVC\n",
    "\n",
    "#decision_function_shape: decision_function_shape{‘ovo’, ‘ovr’}, default=’ovr’\n",
    "\n",
    "svc_clf = SVC(decision_function_shape = 'ovr')\n",
    "svc_clf.fit(X_train, y_train)"
   ]
  },
  {
   "cell_type": "code",
   "execution_count": null,
   "metadata": {},
   "outputs": [],
   "source": [
    "svc_clf.predict([X_train[0]])"
   ]
  },
  {
   "cell_type": "code",
   "execution_count": null,
   "metadata": {},
   "outputs": [],
   "source": [
    "y_train[0]"
   ]
  },
  {
   "cell_type": "code",
   "execution_count": null,
   "metadata": {},
   "outputs": [],
   "source": [
    "svc_clf.decision_function([X_train[0]])"
   ]
  },
  {
   "cell_type": "code",
   "execution_count": null,
   "metadata": {},
   "outputs": [],
   "source": [
    "svc_clf.classes_"
   ]
  },
  {
   "cell_type": "markdown",
   "metadata": {},
   "source": [
    "Lo score massimo si ha per la classe 8"
   ]
  },
  {
   "cell_type": "code",
   "execution_count": null,
   "metadata": {},
   "outputs": [],
   "source": [
    "import matplotlib as mpl\n",
    "import matplotlib.pyplot as plt\n",
    "\n",
    "def show_image(x):\n",
    "    plt.imshow(x.reshape(8,8), cmap=\"binary\")\n",
    "    plt.axis(\"off\")\n",
    "    plt.show()"
   ]
  },
  {
   "cell_type": "code",
   "execution_count": null,
   "metadata": {},
   "outputs": [],
   "source": [
    "show_image(X_train[0])"
   ]
  },
  {
   "cell_type": "code",
   "execution_count": null,
   "metadata": {},
   "outputs": [],
   "source": [
    "import scikitplot as skplt\n",
    "\n",
    "y_pred = svc_clf.predict(X_train)\n",
    "skplt.metrics.plot_confusion_matrix(y_train, y_pred)\n",
    "\n"
   ]
  },
  {
   "cell_type": "code",
   "execution_count": null,
   "metadata": {},
   "outputs": [],
   "source": [
    "from sklearn.metrics import precision_score, recall_score\n",
    "precision_score = precision_score(y_train, y_pred,average = 'weighted')\n",
    "recall_score = recall_score(y_train, y_pred, average = 'weighted')\n",
    "print('Precision Score: {} Recall Score {}'.format(precision_score,recall_score))"
   ]
  },
  {
   "cell_type": "markdown",
   "metadata": {},
   "source": [
    "ESERCIZIO: \n",
    "1. usando la funzione make_blobs(usa random_state=6) genera dei dati associati a 3 classi diverse\n",
    "2. fai il training del modello SVC con kernel lineare;\n",
    "3. genera il grafico dei punti e dei support_vectors;\n",
    "4. fai predizioni sulla classe relativa al punto (-3,1) e controlla i valori della decision function;\n",
    "\n",
    "[soluzione](./soluzione/oneVsRest.ipynb)"
   ]
  },
  {
   "cell_type": "markdown",
   "metadata": {},
   "source": [
    "## One - Versus - One"
   ]
  },
  {
   "cell_type": "markdown",
   "metadata": {},
   "source": [
    "Un'altra strategia è quella di fare training per ogni coppia di classi: una per distinguere 0 e 1, una per distinguere 0 e 2,...\n",
    "Se ci sono N classi ci sarà bisogno di fare il training di N(N-1)/2"
   ]
  },
  {
   "cell_type": "markdown",
   "metadata": {},
   "source": [
    "#### Per il caso del MNIST dobbiamo fare training di 45 classificatori!"
   ]
  },
  {
   "cell_type": "markdown",
   "metadata": {},
   "source": [
    "Se si vuole fare predizioni su una nuova immagine bisognerà far fare predizioni a tutti i 45 classificatori, \n",
    "la classe che vince più duelli sarà quella vincente!"
   ]
  },
  {
   "cell_type": "markdown",
   "metadata": {},
   "source": [
    "La scelta se applicare un approccio OvR o OvO dipende dal particolare algoritmo che state usando:\n",
    "\n",
    "|         |OvR               |OvO          | \n",
    "|----------------------|-------------|-----------|\n",
    "| Numero di classificatori | N          | N(N-1)/2       |\n",
    "| Dataset di training      |tutto il dataset  | solo i dati relativi alle due classi |"
   ]
  },
  {
   "cell_type": "code",
   "execution_count": null,
   "metadata": {},
   "outputs": [],
   "source": [
    "svc_clf_ovo = SVC(decision_function_shape = 'ovo')\n",
    "svc_clf_ovo.fit(X_train, y_train)"
   ]
  },
  {
   "cell_type": "code",
   "execution_count": null,
   "metadata": {},
   "outputs": [],
   "source": [
    "dec_function = svc_clf_ovo.decision_function([X_train[0]])\n",
    "dec_function"
   ]
  },
  {
   "cell_type": "code",
   "execution_count": null,
   "metadata": {},
   "outputs": [],
   "source": [
    "dec_function.shape"
   ]
  },
  {
   "cell_type": "code",
   "execution_count": null,
   "metadata": {},
   "outputs": [],
   "source": [
    "svc_clf_ovo.predict([X_train[0]])"
   ]
  },
  {
   "cell_type": "code",
   "execution_count": null,
   "metadata": {},
   "outputs": [],
   "source": [
    "import scikitplot as skplt\n",
    "\n",
    "y_pred = svc_clf_ovo.predict(X_train)\n",
    "skplt.metrics.plot_confusion_matrix(y_train, y_pred, normalize=True)"
   ]
  },
  {
   "cell_type": "code",
   "execution_count": null,
   "metadata": {},
   "outputs": [],
   "source": [
    "from sklearn.metrics import precision_score, recall_score\n",
    "precision_score = precision_score(y_train, y_pred,average = 'weighted')\n",
    "recall_score = recall_score(y_train, y_pred, average = 'weighted')\n",
    "print('Precision Score: {} Recall Score {}'.format(precision_score,recall_score))"
   ]
  }
 ],
 "metadata": {
  "kernelspec": {
   "display_name": "Python 3",
   "language": "python",
   "name": "python3"
  },
  "language_info": {
   "codemirror_mode": {
    "name": "ipython",
    "version": 3
   },
   "file_extension": ".py",
   "mimetype": "text/x-python",
   "name": "python",
   "nbconvert_exporter": "python",
   "pygments_lexer": "ipython3",
   "version": "3.8.6"
  }
 },
 "nbformat": 4,
 "nbformat_minor": 4
}
