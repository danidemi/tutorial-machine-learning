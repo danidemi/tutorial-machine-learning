{
 "cells": [
  {
   "cell_type": "markdown",
   "metadata": {},
   "source": [
    "# Multiclass Classifier"
   ]
  },
  {
   "cell_type": "markdown",
   "metadata": {},
   "source": [
    "Abbiamo visto come utilizzare un classifier per distinguere le immagini che contenevano un '5' dalle immagini che 'non contenevano un 5'. Supponiamo ora di voler essere in grado di distinguere tutti i numeri da 0 a 9, allora ci serve un multiclass classifier."
   ]
  },
  {
   "cell_type": "markdown",
   "metadata": {},
   "source": [
    "Il SVM è un algoritmo che è nativamente binario, cioè non è in grado di gestire più classi contemporaneamete. Tuttavia esistono delle strategie che permettono di usare classificatori binari anche nel contesto delle multiclassi."
   ]
  },
  {
   "cell_type": "markdown",
   "metadata": {},
   "source": [
    "## One - Versus - Rest  "
   ]
  },
  {
   "cell_type": "markdown",
   "metadata": {},
   "source": [
    "Un modo per poter classificare i numeri da 0 a 9 è quello di fare il training di 10 modelli di SVM diversi:\n",
    "* '1' contro 'non 1'   y_train_1 = (y_train == 1)\n",
    "* '2' contro 'non 2'\n",
    "* ...\n",
    "* '9' contro 'non 9'\n",
    "\n",
    "Una volta che si hanno i 10 classificatori, all'arrivo di una nuova immagine si calcola per ognuno il **decision-score** (nel caso del SVM la decision_function), la classe con lo score più alto vince!"
   ]
  },
  {
   "cell_type": "code",
   "execution_count": 1,
   "metadata": {},
   "outputs": [],
   "source": [
    "from sklearn import datasets\n",
    "import numpy as np\n",
    "\n",
    "mnist = datasets.load_digits()\n",
    "mnist['target'] = mnist['target'].astype(np.int)"
   ]
  },
  {
   "cell_type": "code",
   "execution_count": 2,
   "metadata": {},
   "outputs": [],
   "source": [
    "from sklearn.model_selection import train_test_split\n",
    "\n",
    "X = mnist['data']\n",
    "y = mnist['target']\n",
    "\n",
    "X_train, X_test, y_train, y_test = train_test_split(mnist.data, mnist.target, test_size=0.2, shuffle=True, random_state = 6)"
   ]
  },
  {
   "cell_type": "code",
   "execution_count": 3,
   "metadata": {},
   "outputs": [
    {
     "data": {
      "text/plain": [
       "SVC()"
      ]
     },
     "execution_count": 3,
     "metadata": {},
     "output_type": "execute_result"
    }
   ],
   "source": [
    "from sklearn.svm import SVC\n",
    "\n",
    "#decision_function_shape: decision_function_shape{‘ovo’, ‘ovr’}, default=’ovr’\n",
    "# sta usando come kernel quello di default: 'rbf'\n",
    "svc_clf = SVC(decision_function_shape = 'ovr')\n",
    "svc_clf.fit(X_train, y_train)"
   ]
  },
  {
   "cell_type": "code",
   "execution_count": 4,
   "metadata": {},
   "outputs": [
    {
     "data": {
      "text/plain": [
       "array([8])"
      ]
     },
     "execution_count": 4,
     "metadata": {},
     "output_type": "execute_result"
    }
   ],
   "source": [
    "svc_clf.predict([X_train[0]])"
   ]
  },
  {
   "cell_type": "code",
   "execution_count": 5,
   "metadata": {},
   "outputs": [
    {
     "data": {
      "text/plain": [
       "8"
      ]
     },
     "execution_count": 5,
     "metadata": {},
     "output_type": "execute_result"
    }
   ],
   "source": [
    "y_train[0]"
   ]
  },
  {
   "cell_type": "code",
   "execution_count": 6,
   "metadata": {},
   "outputs": [
    {
     "data": {
      "text/plain": [
       "array([[0.73614222, 0.73933103, 4.8136308 , 5.85417419, 2.75603798,\n",
       "        1.76146471, 6.10965476, 3.76813356, 9.30089759, 8.29265897]])"
      ]
     },
     "execution_count": 6,
     "metadata": {},
     "output_type": "execute_result"
    }
   ],
   "source": [
    "svc_clf.decision_function([X_train[0]])"
   ]
  },
  {
   "cell_type": "code",
   "execution_count": 7,
   "metadata": {},
   "outputs": [
    {
     "data": {
      "text/plain": [
       "array([0, 1, 2, 3, 4, 5, 6, 7, 8, 9])"
      ]
     },
     "execution_count": 7,
     "metadata": {},
     "output_type": "execute_result"
    }
   ],
   "source": [
    "svc_clf.classes_"
   ]
  },
  {
   "cell_type": "markdown",
   "metadata": {},
   "source": [
    "Lo score massimo si ha per la classe 8"
   ]
  },
  {
   "cell_type": "code",
   "execution_count": 8,
   "metadata": {},
   "outputs": [],
   "source": [
    "import matplotlib as mpl\n",
    "import matplotlib.pyplot as plt\n",
    "\n",
    "def show_image(x):\n",
    "    plt.imshow(x.reshape(8,8), cmap=\"binary\")\n",
    "    plt.axis(\"off\")\n",
    "    plt.show()"
   ]
  },
  {
   "cell_type": "code",
   "execution_count": 9,
   "metadata": {},
   "outputs": [
    {
     "data": {
      "image/png": "[encoded data removed]",
      "text/plain": [
       "<Figure size 432x288 with 1 Axes>"
      ]
     },
     "metadata": {
      "needs_background": "light"
     },
     "output_type": "display_data"
    }
   ],
   "source": [
    "show_image(X_train[0])"
   ]
  },
  {
   "cell_type": "code",
   "execution_count": 11,
   "metadata": {},
   "outputs": [
    {
     "data": {
      "text/plain": [
       "<matplotlib.axes._subplots.AxesSubplot at 0x1cafa220>"
      ]
     },
     "execution_count": 11,
     "metadata": {},
     "output_type": "execute_result"
    },
    {
     "data": {
      "image/png": "[encoded data removed]",
      "text/plain": [
       "<Figure size 432x288 with 2 Axes>"
      ]
     },
     "metadata": {
      "needs_background": "light"
     },
     "output_type": "display_data"
    }
   ],
   "source": [
    "import scikitplot as skplt\n",
    "\n",
    "y_pred = svc_clf.predict(X_train)\n",
    "skplt.metrics.plot_confusion_matrix(y_train, y_pred, normalize = True)\n",
    "\n"
   ]
  },
  {
   "cell_type": "code",
   "execution_count": 12,
   "metadata": {},
   "outputs": [
    {
     "name": "stdout",
     "output_type": "stream",
     "text": [
      "Precision Score: 0.9958532304543442 Recall Score 0.9958246346555324\n"
     ]
    }
   ],
   "source": [
    "from sklearn.metrics import precision_score, recall_score\n",
    "precision_score = precision_score(y_train, y_pred,average = 'weighted')\n",
    "recall_score = recall_score(y_train, y_pred, average = 'weighted')\n",
    "print('Precision Score: {} Recall Score {}'.format(precision_score,recall_score))"
   ]
  },
  {
   "cell_type": "markdown",
   "metadata": {},
   "source": [
    "ESERCIZIO: \n",
    "1. usando la funzione make_blobs(usa random_state=6) genera dei dati associati a 3 classi diverse\n",
    "2. fai il training del modello SVC con kernel lineare;\n",
    "3. genera il grafico dei punti e dei support_vectors;\n",
    "4. fai predizioni sulla classe relativa al punto (-3,1) e controlla i valori della decision function;\n",
    "\n",
    "[soluzione](./soluzione/oneVsRest.ipynb)"
   ]
  },
  {
   "cell_type": "markdown",
   "metadata": {},
   "source": [
    "## One - Versus - One"
   ]
  },
  {
   "cell_type": "markdown",
   "metadata": {},
   "source": [
    "Un'altra strategia è quella di fare training per ogni coppia di classi: una per distinguere 0 e 1, una per distinguere 0 e 2,...\n",
    "Se ci sono N classi ci sarà bisogno di fare il training di N(N-1)/2"
   ]
  },
  {
   "cell_type": "markdown",
   "metadata": {},
   "source": [
    "#### Per il caso del MNIST dobbiamo fare training di 45 classificatori!"
   ]
  },
  {
   "cell_type": "markdown",
   "metadata": {},
   "source": [
    "Se si vuole fare predizioni su una nuova immagine bisognerà far fare predizioni a tutti i 45 classificatori, \n",
    "la classe che vince più duelli sarà quella vincente!"
   ]
  },
  {
   "cell_type": "markdown",
   "metadata": {},
   "source": [
    "La scelta se applicare un approccio OvR o OvO dipende dal particolare algoritmo che state usando:\n",
    "\n",
    "|         |OvR               |OvO          | \n",
    "|----------------------|-------------|-----------|\n",
    "| Numero di classificatori | N          | N(N-1)/2       |\n",
    "| Dataset di training      |tutto il dataset  | solo i dati relativi alle due classi |"
   ]
  },
  {
   "cell_type": "code",
   "execution_count": 13,
   "metadata": {},
   "outputs": [
    {
     "data": {
      "text/plain": [
       "SVC(decision_function_shape='ovo')"
      ]
     },
     "execution_count": 13,
     "metadata": {},
     "output_type": "execute_result"
    }
   ],
   "source": [
    "# 45 algoritmi:\n",
    "# 0 versus 1\n",
    "# 0 versus 2\n",
    "# ...\n",
    "# 9 versus 8\n",
    "\n",
    "svc_clf_ovo = SVC(decision_function_shape = 'ovo')\n",
    "svc_clf_ovo.fit(X_train, y_train)"
   ]
  },
  {
   "cell_type": "code",
   "execution_count": 14,
   "metadata": {},
   "outputs": [
    {
     "data": {
      "text/plain": [
       "array([[-1.32738544e-01, -2.03442297e-01, -5.78895797e-01,\n",
       "         5.29314526e-03, -3.91491031e-01, -3.92204760e-01,\n",
       "        -1.55512859e-01, -1.00051684e+00, -9.48341404e-01,\n",
       "        -4.22312509e-01, -3.94924715e-01, -4.37378465e-02,\n",
       "        -5.42088480e-02, -2.57887551e-01, -1.95236674e-01,\n",
       "        -1.38558785e+00, -9.66144064e-01, -3.88476229e-01,\n",
       "         8.79944562e-02,  1.02383315e-01, -9.20614406e-02,\n",
       "         2.07790506e-01, -9.99997810e-01, -8.11514671e-01,\n",
       "         1.14686544e-01,  8.89115447e-02,  1.80330700e-02,\n",
       "        -3.47201173e-04, -1.31857995e+00, -1.04270723e+00,\n",
       "         2.52028286e-02, -7.44897402e-01,  1.13610067e-01,\n",
       "        -1.01368069e+00, -9.45755982e-01, -1.33983478e-01,\n",
       "        -1.20788628e-01, -1.09478115e+00, -1.39589596e+00,\n",
       "         3.89873132e-01, -9.99629702e-01, -5.03011343e-01,\n",
       "        -1.03073339e+00, -1.01502207e+00,  4.33222062e-01]])"
      ]
     },
     "execution_count": 14,
     "metadata": {},
     "output_type": "execute_result"
    }
   ],
   "source": [
    "dec_function = svc_clf_ovo.decision_function([X_train[0]])\n",
    "dec_function"
   ]
  },
  {
   "cell_type": "code",
   "execution_count": 15,
   "metadata": {},
   "outputs": [
    {
     "data": {
      "text/plain": [
       "(1, 45)"
      ]
     },
     "execution_count": 15,
     "metadata": {},
     "output_type": "execute_result"
    }
   ],
   "source": [
    "dec_function.shape"
   ]
  },
  {
   "cell_type": "code",
   "execution_count": 16,
   "metadata": {},
   "outputs": [
    {
     "data": {
      "text/plain": [
       "array([8])"
      ]
     },
     "execution_count": 16,
     "metadata": {},
     "output_type": "execute_result"
    }
   ],
   "source": [
    "svc_clf_ovo.predict([X_train[0]])"
   ]
  },
  {
   "cell_type": "code",
   "execution_count": 18,
   "metadata": {},
   "outputs": [
    {
     "data": {
      "text/plain": [
       "<matplotlib.axes._subplots.AxesSubplot at 0x1cc5e328>"
      ]
     },
     "execution_count": 18,
     "metadata": {},
     "output_type": "execute_result"
    },
    {
     "data": {
      "image/png": "[encoded data removed]",
      "text/plain": [
       "<Figure size 432x288 with 2 Axes>"
      ]
     },
     "metadata": {
      "needs_background": "light"
     },
     "output_type": "display_data"
    }
   ],
   "source": [
    "import scikitplot as skplt\n",
    "\n",
    "y_pred = svc_clf_ovo.predict(X_train)\n",
    "skplt.metrics.plot_confusion_matrix(y_train, y_pred)"
   ]
  },
  {
   "cell_type": "code",
   "execution_count": 19,
   "metadata": {},
   "outputs": [
    {
     "name": "stdout",
     "output_type": "stream",
     "text": [
      "Precision Score: 0.9958532304543442 Recall Score 0.9958246346555324\n"
     ]
    }
   ],
   "source": [
    "from sklearn.metrics import precision_score, recall_score\n",
    "precision_score = precision_score(y_train, y_pred,average = 'weighted')\n",
    "recall_score = recall_score(y_train, y_pred, average = 'weighted')\n",
    "print('Precision Score: {} Recall Score {}'.format(precision_score,recall_score))"
   ]
  }
 ],
 "metadata": {
  "kernelspec": {
   "display_name": "Python 3",
   "language": "python",
   "name": "python3"
  },
  "language_info": {
   "codemirror_mode": {
    "name": "ipython",
    "version": 3
   },
   "file_extension": ".py",
   "mimetype": "text/x-python",
   "name": "python",
   "nbconvert_exporter": "python",
   "pygments_lexer": "ipython3",
   "version": "3.8.6"
  }
 },
 "nbformat": 4,
 "nbformat_minor": 4
}
