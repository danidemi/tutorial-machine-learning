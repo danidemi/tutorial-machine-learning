{
 "cells": [
  {
   "cell_type": "markdown",
   "metadata": {},
   "source": [
    "Importa il dataset wine (load_wine()) e svolgi i seguenti punti:\n",
    "\n",
    "1. Trasformalo in un pandas dataframe e guarda se ci sono dei valori null; quante/quali classi ci sono e se hanno la stessa numerosità nel campione;\n",
    "2. Dividi i dati in dataset di training e dataset di test usando un train_test_split\n",
    "3. Fai il training di un modello di SVC:\n",
    "    * la prima volta senza scalare le features;\n",
    "    * la seconda volta usando una Pipeline per riscalare le features;\n",
    "4. Fai il training di un albero decisionale provando a far variare la profondità dell'albero;\n",
    "5. Per ognuno dei modelli calcola:\n",
    "    * confusion_matrix;\n",
    "    * precision;\n",
    "    * sensitivity\n",
    "    * accuracy\n",
    "6. Scegli il modello migliore\n"
   ]
  },
  {
   "cell_type": "markdown",
   "metadata": {},
   "source": [
    "[soluzione](./soluzione/wine.ipynb)"
   ]
  },
  {
   "cell_type": "code",
   "execution_count": null,
   "metadata": {},
   "outputs": [],
   "source": []
  }
 ],
 "metadata": {
  "kernelspec": {
   "display_name": "Python 3",
   "language": "python",
   "name": "python3"
  },
  "language_info": {
   "codemirror_mode": {
    "name": "ipython",
    "version": 3
   },
   "file_extension": ".py",
   "mimetype": "text/x-python",
   "name": "python",
   "nbconvert_exporter": "python",
   "pygments_lexer": "ipython3",
   "version": "3.8.6"
  }
 },
 "nbformat": 4,
 "nbformat_minor": 4
}
