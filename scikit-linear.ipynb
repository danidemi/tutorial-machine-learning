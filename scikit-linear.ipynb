{
 "cells": [
  {
   "cell_type": "markdown",
   "metadata": {},
   "source": [
    "# Regressione Lineare"
   ]
  },
  {
   "cell_type": "markdown",
   "metadata": {},
   "source": [
    "Esempio di utilizzo della libreria"
   ]
  },
  {
   "cell_type": "code",
   "execution_count": null,
   "metadata": {},
   "outputs": [],
   "source": [
    "dataset_linear = [\n",
    "    [0, 1],\n",
    "    [1, 3],\n",
    "    [2, 5],\n",
    "    [3, 7]\n",
    "]"
   ]
  },
  {
   "cell_type": "code",
   "execution_count": 74,
   "metadata": {},
   "outputs": [
    {
     "name": "stdout",
     "output_type": "stream",
     "text": [
      "<bound method BaseEstimator.get_params of LinearRegression(copy_X=True, fit_intercept=True, n_jobs=None, normalize=False)>\n",
      "coef:[2.]\n",
      "intercept:1.0000000000000007\n",
      "score:1.0\n"
     ]
    }
   ],
   "source": [
    "# https://scikit-learn.org/stable/modules/classes.html#module-sklearn.linear_model\n",
    "from sklearn import linear_model\n",
    "\n",
    "# https://scikit-learn.org/stable/modules/generated/sklearn.linear_model.LinearRegression.html#sklearn.linear_model.LinearRegression\n",
    "lr = linear_model.LinearRegression()\n",
    "print(lr.get_params)\n",
    "\n",
    "# training\n",
    "training = [[0], [1], [2]] \n",
    "target = [1,3,5]\n",
    "lr.fit(training, target)\n",
    "\n",
    "print(\"coef:\" + str(lr.coef_))\n",
    "print(\"intercept:\" + str(lr.intercept_))\n",
    "\n",
    "# score: \n",
    "# 1 => perfectly linear, best possible\n",
    "# - infinity => very bad\n",
    "print(\"score:\" + str(lr.score(training, target))) \n",
    "\n",
    "\n",
    "\n"
   ]
  },
  {
   "cell_type": "code",
   "execution_count": 75,
   "metadata": {},
   "outputs": [
    {
     "name": "stdout",
     "output_type": "stream",
     "text": [
      "[13.]\n"
     ]
    }
   ],
   "source": [
    "# run prediction\n",
    "prediction = lr.predict([[6]])\n",
    "print(prediction)"
   ]
  },
  {
   "cell_type": "markdown",
   "metadata": {},
   "source": [
    "# Esempio\n",
    "consumo elettricità in base a: numero membri famiglia, estensione appartamento, numero locali, reddito famiglia"
   ]
  },
  {
   "cell_type": "code",
   "execution_count": 76,
   "metadata": {},
   "outputs": [
    {
     "name": "stdout",
     "output_type": "stream",
     "text": [
      "Prediction 287.62432046356014, model score 0.8701089443427539.\n",
      "[166.77626156 158.53962867]\n"
     ]
    }
   ],
   "source": [
    "# Samples\n",
    "# [family members, apartment surface in m^2, number of rooms, family yearly income]\n",
    "family0 = [1, 65, 3, 45000]\n",
    "family1 = [4, 70, 3, 52000]\n",
    "family2 = [2, 120, 5, 34000]\n",
    "family3 = [3, 100, 4, 70000]\n",
    "family4 = [6, 70, 3, 25500]\n",
    "family5 = [6, 200, 6, 150000]\n",
    "family6 = [5, 90, 3, 34000]\n",
    "families = [family0, family1, family2, family3, family4, family5, family6]\n",
    "\n",
    "# Monthly energy consumptions in KWh\n",
    "consumptions = [250, 400, 310, 370, 290, 510, 300]\n",
    "\n",
    "lr = linear_model.LinearRegression()\n",
    "lr.fit(families, consumptions)\n",
    "score = lr.score(families, consumptions)\n",
    "\n",
    "# My family\n",
    "myFamily = [3, 80, 3, 43000]\n",
    "print( \"Prediction {0}, model score {1}.\".format( lr.predict([myFamily])[0], score) )\n",
    "\n",
    "# Other families\n",
    "print(lr.predict([ [1,45,2,300], [2,90,3,270]]))\n"
   ]
  },
  {
   "cell_type": "markdown",
   "metadata": {},
   "source": [
    "# Discesa del gradiente\n",
    "\n",
    "![Gradient Descent](https://camo.githubusercontent.com/ffe8ca014b559d500739db0be1624ac4d6034008/68747470733a2f2f707669676965722e6769746875622e696f2f6d656469612f696d672f70617274312f6772616469656e745f64657363656e742e676966)"
   ]
  },
  {
   "cell_type": "code",
   "execution_count": 87,
   "metadata": {},
   "outputs": [
    {
     "name": "stdout",
     "output_type": "stream",
     "text": [
      "[[-1.58113883 -0.8460039  -0.76200076 -0.3438713 ]\n",
      " [ 0.07905694 -0.73211876 -0.76200076 -0.16743472]\n",
      " [-1.02774024  0.40673265  1.01600102 -0.62112879]\n",
      " [-0.47434165 -0.04880792  0.12700013  0.28625935]\n",
      " [ 1.18585412 -0.73211876 -0.76200076 -0.83537321]\n",
      " [ 1.18585412  2.2288949   1.90500191  2.30267744]\n",
      " [ 0.63245553 -0.2765782  -0.76200076 -0.62112879]]\n",
      "Prediction 2522333.7740711835.\n"
     ]
    },
    {
     "name": "stderr",
     "output_type": "stream",
     "text": [
      "C:\\Users\\esche\\anaconda3\\lib\\site-packages\\sklearn\\linear_model\\_stochastic_gradient.py:1187: ConvergenceWarning: Maximum number of iteration reached before convergence. Consider increasing max_iter to improve the fit.\n",
      "  ConvergenceWarning)\n"
     ]
    }
   ],
   "source": [
    "from sklearn import preprocessing\n",
    "from sklearn.pipeline import make_pipeline\n",
    "from sklearn.preprocessing import StandardScaler\n",
    "from sklearn.linear_model import SGDRegressor\n",
    "\n",
    "# Samples\n",
    "# [family members, apartment surface in m^2, number of rooms, family yearly income]\n",
    "family0 = [1, 65, 3, 45000]\n",
    "family1 = [4, 70, 3, 52000]\n",
    "family2 = [2, 120, 5, 34000]\n",
    "family3 = [3, 100, 4, 70000]\n",
    "family4 = [6, 70, 3, 25500]\n",
    "family5 = [6, 200, 6, 150000]\n",
    "family6 = [5, 90, 3, 34000]\n",
    "families = preprocessing.scale( [family0, family1, family2, family3, family4, family5, family6] )\n",
    "print(families)\n",
    "\n",
    "# Monthly energy consumptions in KWh\n",
    "consumptions = [250, 400, 310, 370, 290, 510, 300]\n",
    "\n",
    "# My family\n",
    "myFamily = [3, 80, 3, 43000]\n",
    "\n",
    "reg = make_pipeline(StandardScaler(), SGDRegressor(max_iter=1000, tol=1e-3))\n",
    "r.fit(families, consumptions)\n",
    "print( \"Prediction {0}.\".format( r.predict([myFamily])[0]) )\n"
   ]
  },
  {
   "cell_type": "code",
   "execution_count": null,
   "metadata": {},
   "outputs": [],
   "source": []
  }
 ],
 "metadata": {
  "kernelspec": {
   "display_name": "Python 3",
   "language": "python",
   "name": "python3"
  },
  "language_info": {
   "codemirror_mode": {
    "name": "ipython",
    "version": 3
   },
   "file_extension": ".py",
   "mimetype": "text/x-python",
   "name": "python",
   "nbconvert_exporter": "python",
   "pygments_lexer": "ipython3",
   "version": "3.7.6"
  }
 },
 "nbformat": 4,
 "nbformat_minor": 4
}
