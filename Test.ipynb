{
 "cells": [
  {
   "cell_type": "markdown",
   "metadata": {},
   "source": [
    "Quiz"
   ]
  },
  {
   "cell_type": "code",
   "execution_count": 4,
   "metadata": {},
   "outputs": [
    {
     "data": {
      "text/plain": [
       "4.0"
      ]
     },
     "execution_count": 4,
     "metadata": {},
     "output_type": "execute_result"
    }
   ],
   "source": [
    "import pandas as pd\n",
    "data = pd.DataFrame({\n",
    "    \"Altezza\": [1, 20, 300, 4000],\n",
    "    \"Peso\": [1, 10, 100, 1000]\n",
    "})\n",
    "\n",
    "(data[\"Altezza\"]/data[\"Peso\"])[3]"
   ]
  },
  {
   "cell_type": "code",
   "execution_count": 10,
   "metadata": {},
   "outputs": [
    {
     "data": {
      "text/plain": [
       "100"
      ]
     },
     "execution_count": 10,
     "metadata": {},
     "output_type": "execute_result"
    }
   ],
   "source": [
    "import pandas as pd\n",
    "data = pd.DataFrame({\n",
    "    \"Altezza\": [1, 20, 300, 4000],\n",
    "    \"Peso\": [1, 10, 100, 1000]\n",
    "})\n",
    "\n",
    "data.iloc[2].Peso"
   ]
  },
  {
   "cell_type": "code",
   "execution_count": 44,
   "metadata": {},
   "outputs": [
    {
     "data": {
      "text/plain": [
       "Altezza    -1\n",
       "Massa      -1\n",
       "Name: 4, dtype: object"
      ]
     },
     "execution_count": 44,
     "metadata": {},
     "output_type": "execute_result"
    }
   ],
   "source": [
    "import pandas as pd\n",
    "x = pd.DataFrame({\n",
    "    \"Altezza\": [10, 8, 2, 7, -1, -4, 0, 2],\n",
    "    \"Massa\"  : [12, 2, 8, 7, -1, True, False, True]\n",
    "})\n",
    "y = pd.DataFrame({\n",
    "    \"Lettera\": [\"A\", \"B\", \"C\", \"A\", \"B\", \"C\", \"A\", \"B\"]\n",
    "})\n",
    "\n",
    "x[ y[\"Lettera\"]==\"B\" ].iloc[1]"
   ]
  }
 ],
 "metadata": {
  "kernelspec": {
   "display_name": "Python 3",
   "language": "python",
   "name": "python3"
  },
  "language_info": {
   "codemirror_mode": {
    "name": "ipython",
    "version": 3
   },
   "file_extension": ".py",
   "mimetype": "text/x-python",
   "name": "python",
   "nbconvert_exporter": "python",
   "pygments_lexer": "ipython3",
   "version": "3.7.6"
  }
 },
 "nbformat": 4,
 "nbformat_minor": 4
}
