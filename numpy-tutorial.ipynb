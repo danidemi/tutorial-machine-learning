{
 "cells": [
  {
   "cell_type": "markdown",
   "metadata": {},
   "source": [
    "Numpy Tutorial\n",
    "==============\n",
    "\n",
    "Risorse\n",
    "-------\n",
    "https://numpy.org/devdocs/user/quickstart.html#prerequisites\n",
    "\n",
    "https://numpy.org/devdocs/user/quickstart.html"
   ]
  },
  {
   "cell_type": "code",
   "execution_count": 4,
   "metadata": {},
   "outputs": [],
   "source": [
    "import numpy as np\n"
   ]
  },
  {
   "cell_type": "code",
   "execution_count": 9,
   "metadata": {},
   "outputs": [
    {
     "name": "stdout",
     "output_type": "stream",
     "text": [
      "[2 3 4]\n",
      "int32\n"
     ]
    }
   ],
   "source": [
    "# monodimensional numpy array, called ndarray\n",
    "ints = np.array([2,3,4])\n",
    "print(ints)\n",
    "print(ints.dtype)"
   ]
  },
  {
   "cell_type": "code",
   "execution_count": 12,
   "metadata": {},
   "outputs": [
    {
     "name": "stdout",
     "output_type": "stream",
     "text": [
      "[1.2 3.5 5.1]\n",
      "float64\n"
     ]
    }
   ],
   "source": [
    "# monodimensional float ndarray\n",
    "floats = np.array([1.2, 3.5, 5.1])\n",
    "print(floats)\n",
    "print(floats.dtype)"
   ]
  },
  {
   "cell_type": "code",
   "execution_count": 24,
   "metadata": {},
   "outputs": [
    {
     "name": "stdout",
     "output_type": "stream",
     "text": [
      "[[0.  0.  0. ]\n",
      " [1.2 0.  0. ]\n",
      " [0.  3.4 0. ]\n",
      " [0.  0.  5.6]]\n",
      "2\n",
      "(4, 3)\n",
      "12\n"
     ]
    }
   ],
   "source": [
    "# multidimensional array\n",
    "points = np.array( [[0.0, 0.0, 0.0], [1.2, 0.0, 0.0], [0.0, 3.4, 0.0], [0.0, 0.0, 5.6]] )\n",
    "\n",
    "# the whole array\n",
    "print(points)\n",
    "\n",
    "# number of axis, how many indexes are needed to identify a single value in the array\n",
    "print(points.ndim) \n",
    "\n",
    "# shape, max count for each axis\n",
    "print(points.shape)\n",
    "\n",
    "# count numbers in the whole array\n",
    "print(points.size)\n"
   ]
  },
  {
   "cell_type": "code",
   "execution_count": 37,
   "metadata": {},
   "outputs": [
    {
     "name": "stdout",
     "output_type": "stream",
     "text": [
      "[[[0. 0. 0. 0.]\n",
      "  [0. 0. 0. 0.]\n",
      "  [0. 0. 0. 0.]]\n",
      "\n",
      " [[0. 0. 0. 0.]\n",
      "  [0. 0. 0. 0.]\n",
      "  [0. 0. 0. 0.]]]\n",
      "[[[1. 1. 1. 1.]\n",
      "  [1. 1. 1. 1.]\n",
      "  [1. 1. 1. 1.]]\n",
      "\n",
      " [[1. 1. 1. 1.]\n",
      "  [1. 1. 1. 1.]\n",
      "  [1. 1. 1. 1.]]]\n",
      "[[4.22789158e-307 4.22789158e-307]\n",
      " [5.11782606e-307 8.34427737e-308]]\n",
      "[-10  -5   0   5  10  15  20  25  30  35  40  45  50  55  60  65  70  75\n",
      "  80  85  90]\n"
     ]
    }
   ],
   "source": [
    "# create an array full of zeros\n",
    "zeros = np.zeros( (2, 3, 4) )\n",
    "print(zeros)\n",
    "\n",
    "# create an array full of ones\n",
    "ones = np.ones( [2, 3, 4] )\n",
    "print(ones)\n",
    "\n",
    "# create an array with random values, called \"empty\" because no values are stored \n",
    "# there that differ from the ones in memory\n",
    "empties = np.empty( [2, 2] )\n",
    "print(empties)\n",
    "\n",
    "# creates an array with this meaning:\n",
    "# start value (included)\n",
    "# end value (excluded)\n",
    "# incremental step\n",
    "arange = np.arange( -10, 90, 5 )\n",
    "print(arange)"
   ]
  },
  {
   "cell_type": "code",
   "execution_count": 6,
   "metadata": {},
   "outputs": [
    {
     "data": {
      "text/plain": [
       "array([[1.5, 2. , 3. ],\n",
       "       [4. , 5. , 6. ]])"
      ]
     },
     "execution_count": 6,
     "metadata": {},
     "output_type": "execute_result"
    }
   ],
   "source": [
    "b = np.array([(1.5,2,3), (4,5,6)])\n",
    "b"
   ]
  },
  {
   "cell_type": "code",
   "execution_count": 8,
   "metadata": {},
   "outputs": [
    {
     "data": {
      "text/plain": [
       "array([[1.5, 2. , 3. ],\n",
       "       [4. , 5. , 6. ]])"
      ]
     },
     "execution_count": 8,
     "metadata": {},
     "output_type": "execute_result"
    }
   ],
   "source": [
    "c = np.array([[1.5,2,3], [4,5,6]])\n",
    "c"
   ]
  },
  {
   "cell_type": "code",
   "execution_count": null,
   "metadata": {},
   "outputs": [],
   "source": []
  }
 ],
 "metadata": {
  "kernelspec": {
   "display_name": "Python 3",
   "language": "python",
   "name": "python3"
  },
  "language_info": {
   "codemirror_mode": {
    "name": "ipython",
    "version": 3
   },
   "file_extension": ".py",
   "mimetype": "text/x-python",
   "name": "python",
   "nbconvert_exporter": "python",
   "pygments_lexer": "ipython3",
   "version": "3.7.6"
  }
 },
 "nbformat": 4,
 "nbformat_minor": 4
}
