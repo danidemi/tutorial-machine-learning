{
 "cells": [
  {
   "cell_type": "code",
   "execution_count": 33,
   "metadata": {},
   "outputs": [
    {
     "name": "stdout",
     "output_type": "stream",
     "text": [
      "Ellipsis\n"
     ]
    }
   ],
   "source": [
    "# Estimators \n",
    "\n",
    "estimator = ...\n",
    "\n",
    "estimator.fit( x, y )\n",
    "estimator.predict( sample )\n",
    "\n",
    "\n",
    "\n",
    "# Pre Processors\n",
    "\n",
    "preprocessor = ...\n",
    "\n",
    "preprocessor.fit( x )\n",
    "preprocessor.transfrom( sample )\n"
   ]
  },
  {
   "cell_type": "code",
   "execution_count": 31,
   "metadata": {},
   "outputs": [
    {
     "data": {
      "text/plain": [
       "array([25.])"
      ]
     },
     "execution_count": 31,
     "metadata": {},
     "output_type": "execute_result"
    }
   ],
   "source": [
    "# Training an estimator in Scikit => Linear Regression\n",
    "from sklearn.linear_model import LinearRegression\n",
    "\n",
    "regressor = LinearRegression() # We chose a LinearRegression\n",
    "samples = [\n",
    "    [0],\n",
    "    [3],\n",
    "    [10]\n",
    "]\n",
    "y = [0, 15, 50]\n",
    "regressor.fit(samples, y)\n",
    "regressor.predict([[5]])\n"
   ]
  },
  {
   "cell_type": "code",
   "execution_count": 23,
   "metadata": {},
   "outputs": [
    {
     "data": {
      "text/plain": [
       "array([0])"
      ]
     },
     "execution_count": 23,
     "metadata": {},
     "output_type": "execute_result"
    }
   ],
   "source": [
    "# Training an estimator in Scikit => Classifier\n",
    "from sklearn.ensemble import RandomForestClassifier\n",
    "\n",
    "OVER=1\n",
    "NORMAL=0\n",
    "UNDER=-1\n",
    "\n",
    "classifier = RandomForestClassifier(random_state=0)\n",
    "\n",
    "# samples\n",
    "x = [\n",
    "        [ 100,  145], # 100Kg, 145cm => OVER (1)\n",
    "        [ 120,  165],\n",
    "        [ 90,  180],\n",
    "        [ 75,  175],\n",
    "        [ 80,  190],\n",
    "        [ 73,  205],\n",
    "        [ 33,  165]\n",
    "]\n",
    "# classes\n",
    "y = [1, 1, 1, 0, 0, -1, -1]\n",
    "\n",
    "# fit() trains the model\n",
    "classifier.fit(x, y)\n",
    "\n",
    "\n",
    "# predict() predicts the result for a new sample\n",
    "classifier.predict([[75, 175]])"
   ]
  },
  {
   "cell_type": "code",
   "execution_count": 28,
   "metadata": {},
   "outputs": [
    {
     "data": {
      "text/plain": [
       "array([[-0.9969278 , -0.9969278 , -0.9969278 , -0.9969278 ],\n",
       "       [-0.72000341, -0.72000341, -0.72000341, -0.72000341],\n",
       "       [-0.44307902, -0.44307902, -0.44307902, -0.44307902],\n",
       "       [ 0.38769414,  0.38769414,  0.38769414,  0.38769414],\n",
       "       [ 1.77231608,  1.77231608,  1.77231608,  1.77231608]])"
      ]
     },
     "execution_count": 28,
     "metadata": {},
     "output_type": "execute_result"
    }
   ],
   "source": [
    "from sklearn.preprocessing import StandardScaler\n",
    "\n",
    "\n",
    "x = [\n",
    "        [0, 0, 0, 0],\n",
    "        [0.1, 1, 10, 100],\n",
    "        [0.2, 2, 20, 200],\n",
    "        [0.5, 5, 50, 500],\n",
    "        [1, 10, 100, 1000]\n",
    "]\n",
    "scaler = StandardScaler()\n",
    "\n",
    "# fit() \"train\" the transformer, make tha transformer read all the data\n",
    "scaler.fit(x)\n",
    "# transform() instead of fit()\n",
    "scaler.transform(x)"
   ]
  },
  {
   "cell_type": "code",
   "execution_count": 30,
   "metadata": {},
   "outputs": [
    {
     "data": {
      "text/plain": [
       "array([[0.00000000e+00, 0.00000000e+00, 0.00000000e+00, 0.00000000e+00],\n",
       "       [9.94987442e-04, 9.94987442e-03, 9.94987442e-02, 9.94987442e-01],\n",
       "       [9.94987442e-04, 9.94987442e-03, 9.94987442e-02, 9.94987442e-01],\n",
       "       [9.94987442e-04, 9.94987442e-03, 9.94987442e-02, 9.94987442e-01],\n",
       "       [9.94987442e-04, 9.94987442e-03, 9.94987442e-02, 9.94987442e-01]])"
      ]
     },
     "execution_count": 30,
     "metadata": {},
     "output_type": "execute_result"
    }
   ],
   "source": [
    "from sklearn.preprocessing import Normalizer\n",
    "\n",
    "x = [\n",
    "        [0, 0, 0, 0],\n",
    "        [0.1, 1, 10, 100],\n",
    "        [0.2, 2, 20, 200],\n",
    "        [0.5, 5, 50, 500],\n",
    "        [1, 10, 100, 1000]\n",
    "]\n",
    "normalizer = Normalizer()\n",
    "\n",
    "# fit() \"train\" the transformer, make tha transformer read all the data\n",
    "normalizer.fit(x)\n",
    "normalizer.transform(x)"
   ]
  },
  {
   "cell_type": "code",
   "execution_count": 39,
   "metadata": {},
   "outputs": [
    {
     "data": {
      "text/plain": [
       "array([0])"
      ]
     },
     "execution_count": 39,
     "metadata": {},
     "output_type": "execute_result"
    }
   ],
   "source": [
    "# Pipeline\n",
    "from sklearn.decomposition import PCA\n",
    "from sklearn.pipeline import Pipeline\n",
    "\n",
    "pipeline = Pipeline(\n",
    "    [\n",
    "        ('step1', Normalizer()), \n",
    "        ('step2', StandardScaler()),\n",
    "        ('classifier', RandomForestClassifier(random_state=0))\n",
    "    ]\n",
    ")\n",
    "\n",
    "pipeline.fit(\n",
    "    [ [1], [2], [3], [4], [6] ],\n",
    "    [ 1, 0, 1, 0, 0]\n",
    ")\n",
    "\n",
    "pipeline.predict( [[5]] )\n"
   ]
  },
  {
   "cell_type": "code",
   "execution_count": null,
   "metadata": {},
   "outputs": [],
   "source": []
  }
 ],
 "metadata": {
  "kernelspec": {
   "display_name": "Python 3",
   "language": "python",
   "name": "python3"
  },
  "language_info": {
   "codemirror_mode": {
    "name": "ipython",
    "version": 3
   },
   "file_extension": ".py",
   "mimetype": "text/x-python",
   "name": "python",
   "nbconvert_exporter": "python",
   "pygments_lexer": "ipython3",
   "version": "3.7.6"
  }
 },
 "nbformat": 4,
 "nbformat_minor": 4
}
