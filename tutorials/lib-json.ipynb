{
 "cells": [
  {
   "cell_type": "code",
   "execution_count": 9,
   "metadata": {},
   "outputs": [
    {
     "data": {
      "text/plain": [
       "{'name': 'John', 'age': 30, 'city': 'New York'}"
      ]
     },
     "execution_count": 9,
     "metadata": {},
     "output_type": "execute_result"
    }
   ],
   "source": [
    "import json\n",
    "\n",
    "# some JSON:\n",
    "x =  '{ \"name\":\"John\", \"age\":30, \"city\":\"New York\"}'\n",
    "\n",
    "# parse x:\n",
    "y = json.loads(x)\n",
    "\n",
    "# the result is a Python dictionary:\n",
    "y"
   ]
  },
  {
   "cell_type": "code",
   "execution_count": 3,
   "metadata": {},
   "outputs": [
    {
     "data": {
      "text/plain": [
       "{'name': 'John', 'age': 30, 'cities': ['New York', 'Rome', 'Geneva']}"
      ]
     },
     "execution_count": 3,
     "metadata": {},
     "output_type": "execute_result"
    }
   ],
   "source": [
    "import json\n",
    "\n",
    "# some JSON:\n",
    "x =  '{ \"name\":\"John\", \"age\":30, \"cities\": [\"New York\",\"Rome\",\"Geneva\"]}'\n",
    "\n",
    "# parse x:\n",
    "y = json.loads(x)\n",
    "\n",
    "# the result is a Python dictionary:\n",
    "y"
   ]
  },
  {
   "cell_type": "code",
   "execution_count": 12,
   "metadata": {},
   "outputs": [
    {
     "data": {
      "text/plain": [
       "'Rome'"
      ]
     },
     "execution_count": 12,
     "metadata": {},
     "output_type": "execute_result"
    }
   ],
   "source": [
    "import json\n",
    "\n",
    "# some JSON:\n",
    "x =  '{ \"name\":\"John\", \"age\":30, \"cities\": [ {\"name\":\"New York\", \"popInM\":12.5} , {\"name\":\"Rome\", \"popInM\":6.2},{\"name\":\"Geneva\", \"popInM\":0.6}]}'\n",
    "\n",
    "# parse x:\n",
    "y = json.loads(x)\n",
    "\n",
    "# the result is a Python dictionary:\n",
    "y[\"cities\"][1][\"name\"]\n",
    "#y"
   ]
  },
  {
   "cell_type": "code",
   "execution_count": 14,
   "metadata": {},
   "outputs": [
    {
     "data": {
      "text/plain": [
       "'Rome'"
      ]
     },
     "execution_count": 14,
     "metadata": {},
     "output_type": "execute_result"
    }
   ],
   "source": [
    "import json\n",
    "\n",
    "# parse x:\n",
    "y = json.loads('{ \"name\":\"John\", \"age\":30, \"cities\": [ {\"name\":\"New York\", \"popInM\":12.5} , {\"name\":\"Rome\", \"popInM\":6.2},{\"name\":\"Geneva\", \"popInM\":0.6}]}')\n",
    "\n",
    "# the result is a Python dictionary:\n",
    "y[\"cities\"][1][\"name\"]"
   ]
  },
  {
   "cell_type": "code",
   "execution_count": 18,
   "metadata": {},
   "outputs": [
    {
     "name": "stdout",
     "output_type": "stream",
     "text": [
      "{'name': 'New York', 'popInM': 12.5}\n",
      "{'name': 'Rome', 'popInM': 6.2}\n",
      "{'name': 'Geneva', 'popInM': 0.6}\n"
     ]
    }
   ],
   "source": [
    "import json\n",
    "\n",
    "jc1 = '{\"name\":\"New York\", \"popInM\":12.5}'\n",
    "jc2 = '{\"name\":\"Rome\", \"popInM\":6.2}'\n",
    "jc3 = '{\"name\":\"Geneva\", \"popInM\":0.6}'\n",
    "\n",
    "y1 = json.loads(jc1)\n",
    "y2 = json.loads(jc2)\n",
    "y3 = json.loads(jc3)\n",
    "\n",
    "# the result is a Python dictionary:\n",
    "print(y1)\n",
    "print(y2)\n",
    "print(y3)"
   ]
  }
 ],
 "metadata": {
  "kernelspec": {
   "display_name": "Python 3",
   "language": "python",
   "name": "python3"
  },
  "language_info": {
   "codemirror_mode": {
    "name": "ipython",
    "version": 3
   },
   "file_extension": ".py",
   "mimetype": "text/x-python",
   "name": "python",
   "nbconvert_exporter": "python",
   "pygments_lexer": "ipython3",
   "version": "3.8.3"
  }
 },
 "nbformat": 4,
 "nbformat_minor": 4
}
