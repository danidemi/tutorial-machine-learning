{
 "cells": [
  {
   "cell_type": "markdown",
   "metadata": {},
   "source": [
    "NumPy\n",
    "======\n",
    "\n",
    "* supporto a grandi matrici \n",
    "* array multidimensionali \n",
    "* funzioni matematiche per operare su queste strutture dati.\n",
    "\n",
    "Tutorial\n",
    "-------\n",
    "\n",
    "* https://numpy.org/devdocs/user/quickstart.html#prerequisites\n",
    "* https://numpy.org/devdocs/user/quickstart.html\n",
    "* https://www.tutorialspoint.com/numpy/index.htm\n",
    "\n",
    "Cheatsheets\n",
    "-------\n",
    "* <https://s3.amazonaws.com/assets.datacamp.com/blog_assets/Numpy_Python_Cheat_Sheet.pdf>\n"
   ]
  },
  {
   "cell_type": "code",
   "execution_count": 1,
   "metadata": {},
   "outputs": [],
   "source": [
    "import numpy as np\n"
   ]
  },
  {
   "cell_type": "code",
   "execution_count": 7,
   "metadata": {},
   "outputs": [
    {
     "name": "stdout",
     "output_type": "stream",
     "text": [
      "[2 3 4]\n",
      "int32\n"
     ]
    }
   ],
   "source": [
    "# monodimensional numpy array, called ndarray\n",
    "ints = np.array([2,3,4])\n",
    "print(ints)\n",
    "print(ints.dtype)"
   ]
  },
  {
   "cell_type": "code",
   "execution_count": 8,
   "metadata": {},
   "outputs": [
    {
     "name": "stdout",
     "output_type": "stream",
     "text": [
      "[1.2 3.5 5.1]\n",
      "float64\n"
     ]
    }
   ],
   "source": [
    "# monodimensional float ndarray\n",
    "floats = np.array([1.2, 3.5, 5.1])\n",
    "print(floats)\n",
    "print(floats.dtype)"
   ]
  },
  {
   "cell_type": "markdown",
   "metadata": {},
   "source": [
    "![Axis](https://miro.medium.com/max/2880/1*Ikn1J6siiiCSk4ivYUhdgw.png)"
   ]
  },
  {
   "cell_type": "code",
   "execution_count": 9,
   "metadata": {},
   "outputs": [
    {
     "name": "stdout",
     "output_type": "stream",
     "text": [
      "\n",
      "points -----\n",
      "[[0.  0.  0. ]\n",
      " [1.2 0.  0. ]\n",
      " [0.  3.4 0. ]\n",
      " [0.  0.  5.6]]\n",
      "\n",
      "axis -----\n",
      "2\n",
      "\n",
      "shape -----\n",
      "(4, 3)\n",
      "\n",
      "size -----\n",
      "12\n"
     ]
    }
   ],
   "source": [
    "# bidimensional array\n",
    "points = np.array( [[0.0, 0.0, 0.0], [1.2, 0.0, 0.0], [0.0, 3.4, 0.0], [0.0, 0.0, 5.6]] )\n",
    "\n",
    "# the whole array\n",
    "print(\"\\npoints -----\")\n",
    "print(points)\n",
    "\n",
    "\n",
    "# number of axis, how many indexes are needed to identify a single value in the array\n",
    "print(\"\\naxis -----\")\n",
    "print(points.ndim) \n",
    "\n",
    "# shape, max count for each axis\n",
    "print(\"\\nshape -----\")\n",
    "print(points.shape)\n",
    "\n",
    "# count numbers in the whole array\n",
    "print(\"\\nsize -----\")\n",
    "print(points.size)\n"
   ]
  },
  {
   "cell_type": "code",
   "execution_count": 7,
   "metadata": {},
   "outputs": [
    {
     "name": "stdout",
     "output_type": "stream",
     "text": [
      "\n",
      " zeros -----\n",
      "[[[0. 0. 0. 0.]\n",
      "  [0. 0. 0. 0.]\n",
      "  [0. 0. 0. 0.]]\n",
      "\n",
      " [[0. 0. 0. 0.]\n",
      "  [0. 0. 0. 0.]\n",
      "  [0. 0. 0. 0.]]]\n",
      "\n",
      " ones -----\n",
      "[[[1. 1. 1. 1.]\n",
      "  [1. 1. 1. 1.]\n",
      "  [1. 1. 1. 1.]]\n",
      "\n",
      " [[1. 1. 1. 1.]\n",
      "  [1. 1. 1. 1.]\n",
      "  [1. 1. 1. 1.]]]\n",
      "\n",
      " empties -----\n",
      "[[4.45042952e-307 2.55896735e-307]\n",
      " [9.79101081e-307 1.78020576e-306]]\n",
      "\n",
      " arange -----\n",
      "[-10  -5   0   5  10  15  20  25  30  35  40  45  50  55  60  65  70  75\n",
      "  80  85]\n",
      "\n",
      " linspace -----\n",
      "[ 20.   19.5  19.   18.5  18.   17.5  17.   16.5  16.   15.5  15.   14.5\n",
      "  14.   13.5  13.   12.5  12.   11.5  11.   10.5  10.    9.5   9.    8.5\n",
      "   8.    7.5   7.    6.5   6.    5.5   5.    4.5   4.    3.5   3.    2.5\n",
      "   2.    1.5   1.    0.5   0.   -0.5  -1.   -1.5  -2.   -2.5  -3.   -3.5\n",
      "  -4.   -4.5  -5.   -5.5  -6.   -6.5  -7.   -7.5  -8.   -8.5  -9.   -9.5\n",
      " -10.  -10.5 -11.  -11.5 -12.  -12.5 -13.  -13.5 -14.  -14.5 -15.  -15.5\n",
      " -16.  -16.5 -17.  -17.5 -18.  -18.5 -19.  -19.5 -20. ]\n",
      "\n",
      " linspace 2 -----\n",
      "(array([10.        , 10.25641026, 10.51282051, 10.76923077, 11.02564103,\n",
      "       11.28205128, 11.53846154, 11.79487179, 12.05128205, 12.30769231,\n",
      "       12.56410256, 12.82051282, 13.07692308, 13.33333333, 13.58974359,\n",
      "       13.84615385, 14.1025641 , 14.35897436, 14.61538462, 14.87179487,\n",
      "       15.12820513, 15.38461538, 15.64102564, 15.8974359 , 16.15384615,\n",
      "       16.41025641, 16.66666667, 16.92307692, 17.17948718, 17.43589744,\n",
      "       17.69230769, 17.94871795, 18.20512821, 18.46153846, 18.71794872,\n",
      "       18.97435897, 19.23076923, 19.48717949, 19.74358974, 20.        ]), 0.2564102564102564)\n"
     ]
    }
   ],
   "source": [
    "# create an array full of zeros, specifying the dimensions\n",
    "zeros = np.zeros( (2, 3, 4) )\n",
    "print(\"\\n zeros -----\")\n",
    "print(zeros)\n",
    "\n",
    "# create an array full of ones\n",
    "ones = np.ones( [2, 3, 4] )\n",
    "print(\"\\n ones -----\")\n",
    "print(ones)\n",
    "\n",
    "# create an array with random values, called \"empty\" because no values are stored \n",
    "# there that differ from the ones in memory\n",
    "empties = np.empty( [2, 2] )\n",
    "print(\"\\n empties -----\")\n",
    "print(empties)\n",
    "\n",
    "# creates an array with this meaning:\n",
    "# start value (included)\n",
    "# end value (excluded)\n",
    "# incremental step\n",
    "arange = np.arange( -10, 90, 5 )\n",
    "print(\"\\n arange -----\")      \n",
    "print(arange)\n",
    "\n",
    "# creates an array containing values ranging from 20 to -20 with 81 items\n",
    "lins = np.linspace( 20, -20, 81)\n",
    "print(\"\\n linspace -----\")      \n",
    "print(lins)\n",
    "\n",
    "# return the interval between items too\n",
    "lins = np.linspace( 10, 20, 40, retstep=True)\n",
    "print(\"\\n linspace 2 -----\")      \n",
    "print(lins)"
   ]
  },
  {
   "cell_type": "code",
   "execution_count": 13,
   "metadata": {},
   "outputs": [
    {
     "name": "stdout",
     "output_type": "stream",
     "text": [
      "\n",
      "[ 0  1  2  3  4  5  6  7  8  9 10 11 12 13 14 15 16 17 18 19 20 21 22 23]\n",
      "\n",
      "[[ 0  1  2  3  4  5  6  7  8  9 10 11]\n",
      " [12 13 14 15 16 17 18 19 20 21 22 23]]\n",
      "\n",
      "[[ 0  1  2  3  4  5]\n",
      " [ 6  7  8  9 10 11]\n",
      " [12 13 14 15 16 17]\n",
      " [18 19 20 21 22 23]]\n",
      "\n",
      "[[[ 0  1  2  3]\n",
      "  [ 4  5  6  7]]\n",
      "\n",
      " [[ 8  9 10 11]\n",
      "  [12 13 14 15]]\n",
      "\n",
      " [[16 17 18 19]\n",
      "  [20 21 22 23]]]\n"
     ]
    }
   ],
   "source": [
    "# Reshape\n",
    "tmp = np.arange(24)\n",
    "print()\n",
    "print(tmp)\n",
    "\n",
    "tmp = tmp.reshape(2,12)\n",
    "print()\n",
    "print(tmp)\n",
    "\n",
    "tmp = tmp.reshape(4,6)\n",
    "print()\n",
    "print(tmp)\n",
    "\n",
    "tmp = tmp.reshape(3,2,4)\n",
    "print()\n",
    "print(tmp)"
   ]
  },
  {
   "cell_type": "code",
   "execution_count": 29,
   "metadata": {},
   "outputs": [
    {
     "name": "stdout",
     "output_type": "stream",
     "text": [
      "\n",
      "numpy array -----\n",
      "[1 2 3]\n"
     ]
    }
   ],
   "source": [
    "# convert a Python array in a ndarray\n",
    "pythonArr = [1,2,3] \n",
    "npArr = np.asarray(pythonArr)\n",
    "print(\"\\nnumpy array -----\")\n",
    "print(npArr)"
   ]
  },
  {
   "cell_type": "code",
   "execution_count": 44,
   "metadata": {},
   "outputs": [
    {
     "name": "stdout",
     "output_type": "stream",
     "text": [
      "<class 'numpy.ndarray'>\n",
      "[ 0  2  4  6  8 10 12 14 16 18 20 22 24 26 28 30 32 34 36 38]\n",
      "<class 'numpy.ndarray'>\n",
      "[0 2 4]\n",
      "<class 'numpy.ndarray'>\n",
      "[ 6  8 10 12 14 16 18 20 22 24 26 28 30 32 34 36 38]\n",
      "<class 'numpy.ndarray'>\n",
      "[6 8]\n",
      "<class 'numpy.ndarray'>\n",
      "[34 36 38]\n",
      "<class 'numpy.ndarray'>\n",
      "[]\n"
     ]
    }
   ],
   "source": [
    "# fancy access\n",
    "numbers = np.arange( 0, 20*2, 2 )\n",
    "print(type(numbers))\n",
    "print(numbers)\n",
    "\n",
    "arr = numbers[:3]\n",
    "print(type(arr))\n",
    "print(arr)\n",
    "\n",
    "arr = numbers[3:]\n",
    "print(type(arr))\n",
    "print(arr)\n",
    "\n",
    "arr = numbers[3:5]\n",
    "print(type(arr))\n",
    "print(arr)\n",
    "\n",
    "arr = numbers[-3:]\n",
    "print(type(arr))\n",
    "print(arr)\n"
   ]
  },
  {
   "cell_type": "code",
   "execution_count": 12,
   "metadata": {},
   "outputs": [
    {
     "name": "stdout",
     "output_type": "stream",
     "text": [
      "\n",
      "sum arrays -----\n",
      "[11 33 77]\n",
      "\n",
      "mult arrays -----\n",
      "[ 10  90 490]\n",
      "\n",
      "sum elements -----\n",
      "11\n",
      "\n",
      "sqrt elements -----\n",
      "[1.         1.73205081 2.64575131]\n"
     ]
    }
   ],
   "source": [
    "arr1 = np.array([1,3,7])\n",
    "arr2 = np.array([10,30,70])\n",
    "\n",
    "print(\"\\nsum arrays -----\")\n",
    "print( arr1 + arr2 )\n",
    "\n",
    "print(\"\\nmult arrays -----\")\n",
    "print( arr1 * arr2 )\n",
    "\n",
    "print(\"\\nsum elements -----\")\n",
    "print( np.sum( arr1 ) )\n",
    "\n",
    "print(\"\\nsqrt elements -----\")\n",
    "print( np.sqrt( arr1 ) )"
   ]
  },
  {
   "cell_type": "code",
   "execution_count": 28,
   "metadata": {},
   "outputs": [
    {
     "data": {
      "text/plain": [
       "array([10,  6, 11,  0,  7,  2,  8,  5,  4,  1,  3,  9])"
      ]
     },
     "execution_count": 28,
     "metadata": {},
     "output_type": "execute_result"
    }
   ],
   "source": [
    "# https://docs.scipy.org/doc/numpy-1.15.0/reference/generated/numpy.random.permutation.html\n",
    "# try to run it multiple times!\n",
    "np.random.permutation(12)"
   ]
  }
 ],
 "metadata": {
  "kernelspec": {
   "display_name": "Python 3",
   "language": "python",
   "name": "python3"
  },
  "language_info": {
   "codemirror_mode": {
    "name": "ipython",
    "version": 3
   },
   "file_extension": ".py",
   "mimetype": "text/x-python",
   "name": "python",
   "nbconvert_exporter": "python",
   "pygments_lexer": "ipython3",
   "version": "3.7.6"
  }
 },
 "nbformat": 4,
 "nbformat_minor": 4
}
