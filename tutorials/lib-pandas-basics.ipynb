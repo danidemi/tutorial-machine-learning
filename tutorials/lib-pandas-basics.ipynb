{
 "cells": [
  {
   "cell_type": "markdown",
   "metadata": {},
   "source": [
    "Pandas\n",
    "======\n",
    "\n",
    "* fast, \n",
    "* powerful, \n",
    "* flexible \n",
    "* \"easy to use\" \n",
    "data analysis and manipulation tool\n",
    "\n",
    "Tutorials\n",
    "--------\n",
    "* <https://pandas.pydata.org/docs/getting_started/index.html#getting-started>\n"
   ]
  },
  {
   "cell_type": "markdown",
   "metadata": {},
   "source": [
    "In Pandas, a data table is called a DataFrame.\n",
    "\n",
    "<img src=\"https://pandas.pydata.org/docs/_images/01_table_dataframe.svg\"/>"
   ]
  },
  {
   "cell_type": "code",
   "execution_count": 1,
   "metadata": {},
   "outputs": [],
   "source": [
    "# Pandas has to be imported. Conventionally it is imported as \"pd\".\n",
    "import pandas as pd"
   ]
  },
  {
   "cell_type": "markdown",
   "metadata": {},
   "source": [
    "## Create a Data Frame"
   ]
  },
  {
   "cell_type": "code",
   "execution_count": 2,
   "metadata": {},
   "outputs": [
    {
     "data": {
      "text/html": [
       "<div>\n",
       "<style scoped>\n",
       "    .dataframe tbody tr th:only-of-type {\n",
       "        vertical-align: middle;\n",
       "    }\n",
       "\n",
       "    .dataframe tbody tr th {\n",
       "        vertical-align: top;\n",
       "    }\n",
       "\n",
       "    .dataframe thead th {\n",
       "        text-align: right;\n",
       "    }\n",
       "</style>\n",
       "<table border=\"1\" class=\"dataframe\">\n",
       "  <thead>\n",
       "    <tr style=\"text-align: right;\">\n",
       "      <th></th>\n",
       "      <th>Name</th>\n",
       "      <th>Age</th>\n",
       "      <th>Gender</th>\n",
       "      <th>Citizenship</th>\n",
       "    </tr>\n",
       "  </thead>\n",
       "  <tbody>\n",
       "    <tr>\n",
       "      <th>0</th>\n",
       "      <td>Braund, Mr. Owen Harris</td>\n",
       "      <td>22</td>\n",
       "      <td>male</td>\n",
       "      <td>English</td>\n",
       "    </tr>\n",
       "    <tr>\n",
       "      <th>1</th>\n",
       "      <td>Rossi, Sig.ra Miriana</td>\n",
       "      <td>35</td>\n",
       "      <td>female</td>\n",
       "      <td>Italian</td>\n",
       "    </tr>\n",
       "    <tr>\n",
       "      <th>2</th>\n",
       "      <td>Bergerac, M.me Justine</td>\n",
       "      <td>58</td>\n",
       "      <td>female</td>\n",
       "      <td>French</td>\n",
       "    </tr>\n",
       "    <tr>\n",
       "      <th>3</th>\n",
       "      <td>Wolf, Herr Gustav</td>\n",
       "      <td>34</td>\n",
       "      <td>male</td>\n",
       "      <td>German</td>\n",
       "    </tr>\n",
       "    <tr>\n",
       "      <th>4</th>\n",
       "      <td>Consonni, Sig.ra Susanna</td>\n",
       "      <td>56</td>\n",
       "      <td>female</td>\n",
       "      <td>Italian</td>\n",
       "    </tr>\n",
       "    <tr>\n",
       "      <th>5</th>\n",
       "      <td>Miser X</td>\n",
       "      <td>22</td>\n",
       "      <td>?</td>\n",
       "      <td>?</td>\n",
       "    </tr>\n",
       "  </tbody>\n",
       "</table>\n",
       "</div>"
      ],
      "text/plain": [
       "                       Name  Age  Gender Citizenship\n",
       "0   Braund, Mr. Owen Harris   22    male     English\n",
       "1     Rossi, Sig.ra Miriana   35  female     Italian\n",
       "2    Bergerac, M.me Justine   58  female      French\n",
       "3         Wolf, Herr Gustav   34    male      German\n",
       "4  Consonni, Sig.ra Susanna   56  female     Italian\n",
       "5                   Miser X   22       ?           ?"
      ]
     },
     "execution_count": 2,
     "metadata": {},
     "output_type": "execute_result"
    }
   ],
   "source": [
    "# New Data Frame, column by column.\n",
    "# =====================================================\n",
    "# A basic data frame with several data\n",
    "# Note that data are provided in column (or \"series\").\n",
    "#\n",
    "# This is like filling a spreadsheet column by column.\n",
    "data = pd.DataFrame({\n",
    "    \n",
    "    # The column \"name\" as key and all the values in a list.\n",
    "    \"Name\": [\"Braund, Mr. Owen Harris\",\n",
    "             \"Rossi, Sig.ra Miriana\",\n",
    "             \"Bergerac, M.me Justine\",\n",
    "             \"Wolf, Herr Gustav\",\n",
    "             \"Consonni, Sig.ra Susanna\",\n",
    "             \"Miser X\"\n",
    "            ],\n",
    "    \n",
    "    # The column \"age\" as key and all the values in a list.\n",
    "    \"Age\": [22, 35, 58, 34, 56, 22],\n",
    "    \n",
    "    # The column \"sex\" as key and all the values in a list\n",
    "    \"Gender\": [\"male\", \"female\", \"female\", \"male\", \"female\", \"?\"],\n",
    "    \n",
    "    \"Citizenship\": [\"English\", \"Italian\", \"French\", \"German\", \"Italian\", \"?\"]\n",
    "    }\n",
    ")\n",
    "\n",
    "# evaluating something in the last line, \n",
    "# makes Jupyter to render it, provided it has been instructed how to do it.\n",
    "data"
   ]
  },
  {
   "cell_type": "code",
   "execution_count": 3,
   "metadata": {},
   "outputs": [
    {
     "data": {
      "text/html": [
       "<div>\n",
       "<style scoped>\n",
       "    .dataframe tbody tr th:only-of-type {\n",
       "        vertical-align: middle;\n",
       "    }\n",
       "\n",
       "    .dataframe tbody tr th {\n",
       "        vertical-align: top;\n",
       "    }\n",
       "\n",
       "    .dataframe thead th {\n",
       "        text-align: right;\n",
       "    }\n",
       "</style>\n",
       "<table border=\"1\" class=\"dataframe\">\n",
       "  <thead>\n",
       "    <tr style=\"text-align: right;\">\n",
       "      <th></th>\n",
       "      <th>Name</th>\n",
       "      <th>Age</th>\n",
       "      <th>Gender</th>\n",
       "      <th>Citizenship</th>\n",
       "    </tr>\n",
       "  </thead>\n",
       "  <tbody>\n",
       "    <tr>\n",
       "      <th>0</th>\n",
       "      <td>Braund, Mr. Owen Harris</td>\n",
       "      <td>22</td>\n",
       "      <td>male</td>\n",
       "      <td>English</td>\n",
       "    </tr>\n",
       "    <tr>\n",
       "      <th>1</th>\n",
       "      <td>Rossi, Sig.ra Miriana</td>\n",
       "      <td>35</td>\n",
       "      <td>female</td>\n",
       "      <td>Italian</td>\n",
       "    </tr>\n",
       "    <tr>\n",
       "      <th>2</th>\n",
       "      <td>Wolf, Herr Gustav</td>\n",
       "      <td>34</td>\n",
       "      <td>male</td>\n",
       "      <td>German</td>\n",
       "    </tr>\n",
       "    <tr>\n",
       "      <th>3</th>\n",
       "      <td>Bergerac, M.me Justine</td>\n",
       "      <td>58</td>\n",
       "      <td>female</td>\n",
       "      <td>French</td>\n",
       "    </tr>\n",
       "    <tr>\n",
       "      <th>4</th>\n",
       "      <td>Consonni, Sig.ra Susanna</td>\n",
       "      <td>56</td>\n",
       "      <td>female</td>\n",
       "      <td>Italian</td>\n",
       "    </tr>\n",
       "  </tbody>\n",
       "</table>\n",
       "</div>"
      ],
      "text/plain": [
       "                       Name  Age  Gender Citizenship\n",
       "0   Braund, Mr. Owen Harris   22    male     English\n",
       "1     Rossi, Sig.ra Miriana   35  female     Italian\n",
       "2         Wolf, Herr Gustav   34    male      German\n",
       "3    Bergerac, M.me Justine   58  female      French\n",
       "4  Consonni, Sig.ra Susanna   56  female     Italian"
      ]
     },
     "execution_count": 3,
     "metadata": {},
     "output_type": "execute_result"
    }
   ],
   "source": [
    "# New Data Frame, row by row.\n",
    "# =====================================================\n",
    "# A basic data frame with several data\n",
    "# Note that data can be also provided row by row.\n",
    "# \"headers\" are provided with a separate argument.\n",
    "data = pd.DataFrame([\n",
    "    \n",
    "        # 1st row, is a list\n",
    "        [\"Braund, Mr. Owen Harris\", 22, \"male\", \"English\"],\n",
    "    \n",
    "        # 2nd row, is a list\n",
    "        [\"Rossi, Sig.ra Miriana\", 35, \"female\", \"Italian\"],\n",
    "    \n",
    "        # 3rd row, is a list\n",
    "        [\"Wolf, Herr Gustav\", 34, \"male\", \"German\"],\n",
    "    \n",
    "        # and so on...\n",
    "        [\"Bergerac, M.me Justine\", 58, \"female\", \"French\"],\n",
    "        [\"Consonni, Sig.ra Susanna\", 56, \"female\", \"Italian\"]\n",
    "    ],\n",
    "    columns=[\"Name\", \"Age\", \"Gender\", \"Citizenship\"]\n",
    ")\n",
    "\n",
    "data"
   ]
  },
  {
   "cell_type": "code",
   "execution_count": 26,
   "metadata": {},
   "outputs": [
    {
     "data": {
      "text/html": [
       "<div>\n",
       "<style scoped>\n",
       "    .dataframe tbody tr th:only-of-type {\n",
       "        vertical-align: middle;\n",
       "    }\n",
       "\n",
       "    .dataframe tbody tr th {\n",
       "        vertical-align: top;\n",
       "    }\n",
       "\n",
       "    .dataframe thead th {\n",
       "        text-align: right;\n",
       "    }\n",
       "</style>\n",
       "<table border=\"1\" class=\"dataframe\">\n",
       "  <thead>\n",
       "    <tr style=\"text-align: right;\">\n",
       "      <th></th>\n",
       "      <th>Name</th>\n",
       "      <th>Age</th>\n",
       "      <th>Gender</th>\n",
       "      <th>Citizenship</th>\n",
       "      <th>FavouriteFood</th>\n",
       "      <th>Height</th>\n",
       "      <th>Weight</th>\n",
       "      <th>BMI</th>\n",
       "      <th>tall</th>\n",
       "    </tr>\n",
       "  </thead>\n",
       "  <tbody>\n",
       "    <tr>\n",
       "      <th>0</th>\n",
       "      <td>Braund, Mr. Owen Harris</td>\n",
       "      <td>22</td>\n",
       "      <td>male</td>\n",
       "      <td>English</td>\n",
       "      <td>Pudding</td>\n",
       "      <td>180</td>\n",
       "      <td>80</td>\n",
       "      <td>2.250000</td>\n",
       "      <td>True</td>\n",
       "    </tr>\n",
       "    <tr>\n",
       "      <th>1</th>\n",
       "      <td>Rossi, Sig.ra Miriana</td>\n",
       "      <td>35</td>\n",
       "      <td>female</td>\n",
       "      <td>Italian</td>\n",
       "      <td>Cotoletta alla Milanese</td>\n",
       "      <td>170</td>\n",
       "      <td>82</td>\n",
       "      <td>2.073171</td>\n",
       "      <td>True</td>\n",
       "    </tr>\n",
       "    <tr>\n",
       "      <th>2</th>\n",
       "      <td>Wolf, Herr Gustav</td>\n",
       "      <td>34</td>\n",
       "      <td>male</td>\n",
       "      <td>German</td>\n",
       "      <td>Bratwurst</td>\n",
       "      <td>160</td>\n",
       "      <td>78</td>\n",
       "      <td>2.051282</td>\n",
       "      <td>False</td>\n",
       "    </tr>\n",
       "    <tr>\n",
       "      <th>3</th>\n",
       "      <td>Bergerac, M.me Justine</td>\n",
       "      <td>58</td>\n",
       "      <td>female</td>\n",
       "      <td>French</td>\n",
       "      <td>Soupe De Poisson</td>\n",
       "      <td>175</td>\n",
       "      <td>65</td>\n",
       "      <td>2.692308</td>\n",
       "      <td>True</td>\n",
       "    </tr>\n",
       "    <tr>\n",
       "      <th>4</th>\n",
       "      <td>Consonni, Sig.ra Susanna</td>\n",
       "      <td>56</td>\n",
       "      <td>female</td>\n",
       "      <td>Italian</td>\n",
       "      <td>Pizza</td>\n",
       "      <td>165</td>\n",
       "      <td>54</td>\n",
       "      <td>3.055556</td>\n",
       "      <td>False</td>\n",
       "    </tr>\n",
       "  </tbody>\n",
       "</table>\n",
       "</div>"
      ],
      "text/plain": [
       "                       Name  Age  Gender Citizenship            FavouriteFood  \\\n",
       "0   Braund, Mr. Owen Harris   22    male     English                  Pudding   \n",
       "1     Rossi, Sig.ra Miriana   35  female     Italian  Cotoletta alla Milanese   \n",
       "2         Wolf, Herr Gustav   34    male      German                Bratwurst   \n",
       "3    Bergerac, M.me Justine   58  female      French         Soupe De Poisson   \n",
       "4  Consonni, Sig.ra Susanna   56  female     Italian                    Pizza   \n",
       "\n",
       "   Height  Weight       BMI   tall  \n",
       "0     180      80  2.250000   True  \n",
       "1     170      82  2.073171   True  \n",
       "2     160      78  2.051282  False  \n",
       "3     175      65  2.692308   True  \n",
       "4     165      54  3.055556  False  "
      ]
     },
     "execution_count": 26,
     "metadata": {},
     "output_type": "execute_result"
    }
   ],
   "source": [
    "# Add a column\n",
    "favourite_food = [\n",
    "    \"Pudding\", \n",
    "    \"Cotoletta alla Milanese\", \n",
    "    \"Bratwurst\", \n",
    "    \"Soupe De Poisson\", \n",
    "    \"Pizza\" ] \n",
    "data[\"FavouriteFood\"] = favourite_food\n",
    "\n",
    "data[\"Height\"] = [180, 170, 160, 175, 165]\n",
    "\n",
    "data[\"Weight\"] = [80, 82, 78, 65, 54]\n",
    "\n",
    "data[\"BMI\"] = data[\"Height\"] / data[\"Weight\"]\n",
    "\n",
    "data[\"tall\"] = data[\"Height\"] >= 170\n",
    "\n",
    "\n",
    "\n",
    "\n",
    "data"
   ]
  },
  {
   "cell_type": "markdown",
   "metadata": {},
   "source": [
    "## Inspect a Data Frame"
   ]
  },
  {
   "cell_type": "code",
   "execution_count": 5,
   "metadata": {
    "tags": []
   },
   "outputs": [
    {
     "name": "stdout",
     "output_type": "stream",
     "text": [
      "0    22\n",
      "1    35\n",
      "2    34\n",
      "3    58\n",
      "4    56\n",
      "Name: Age, dtype: int64\n",
      "\n",
      "<class 'pandas.core.series.Series'>\n"
     ]
    }
   ],
   "source": [
    "# Extract what we would call a \"column\". It is called a \"series\" in Pandas jargoon.\n",
    "# A \"series\" / \"column\" is extracted with a dictionary semantic.\n",
    "age = data[\"Age\"]\n",
    "\n",
    "print(age)\n",
    "print()\n",
    "print(type(age))"
   ]
  },
  {
   "cell_type": "code",
   "execution_count": 6,
   "metadata": {},
   "outputs": [
    {
     "name": "stdout",
     "output_type": "stream",
     "text": [
      "58\n",
      "22\n",
      "41.0\n",
      "35.0\n",
      "15.491933384829668\n",
      "3\n"
     ]
    }
   ],
   "source": [
    "# some info on the series.\n",
    "print( age.max() )\n",
    "print( age.min() )\n",
    "print( age.mean() )\n",
    "print( age.median() )\n",
    "print( age.std() )\n",
    "print( age.idxmax() )\n",
    "\n",
    "# what else you can do?\n",
    "# check out https://pandas.pydata.org/pandas-docs/stable/reference/series.html"
   ]
  },
  {
   "cell_type": "code",
   "execution_count": 7,
   "metadata": {},
   "outputs": [
    {
     "data": {
      "text/html": [
       "<div>\n",
       "<style scoped>\n",
       "    .dataframe tbody tr th:only-of-type {\n",
       "        vertical-align: middle;\n",
       "    }\n",
       "\n",
       "    .dataframe tbody tr th {\n",
       "        vertical-align: top;\n",
       "    }\n",
       "\n",
       "    .dataframe thead th {\n",
       "        text-align: right;\n",
       "    }\n",
       "</style>\n",
       "<table border=\"1\" class=\"dataframe\">\n",
       "  <thead>\n",
       "    <tr style=\"text-align: right;\">\n",
       "      <th></th>\n",
       "      <th>Age</th>\n",
       "    </tr>\n",
       "  </thead>\n",
       "  <tbody>\n",
       "    <tr>\n",
       "      <th>count</th>\n",
       "      <td>5.000000</td>\n",
       "    </tr>\n",
       "    <tr>\n",
       "      <th>mean</th>\n",
       "      <td>41.000000</td>\n",
       "    </tr>\n",
       "    <tr>\n",
       "      <th>std</th>\n",
       "      <td>15.491933</td>\n",
       "    </tr>\n",
       "    <tr>\n",
       "      <th>min</th>\n",
       "      <td>22.000000</td>\n",
       "    </tr>\n",
       "    <tr>\n",
       "      <th>25%</th>\n",
       "      <td>34.000000</td>\n",
       "    </tr>\n",
       "    <tr>\n",
       "      <th>50%</th>\n",
       "      <td>35.000000</td>\n",
       "    </tr>\n",
       "    <tr>\n",
       "      <th>75%</th>\n",
       "      <td>56.000000</td>\n",
       "    </tr>\n",
       "    <tr>\n",
       "      <th>max</th>\n",
       "      <td>58.000000</td>\n",
       "    </tr>\n",
       "  </tbody>\n",
       "</table>\n",
       "</div>"
      ],
      "text/plain": [
       "             Age\n",
       "count   5.000000\n",
       "mean   41.000000\n",
       "std    15.491933\n",
       "min    22.000000\n",
       "25%    34.000000\n",
       "50%    35.000000\n",
       "75%    56.000000\n",
       "max    58.000000"
      ]
     },
     "execution_count": 7,
     "metadata": {},
     "output_type": "execute_result"
    }
   ],
   "source": [
    "# description of the series.\n",
    "data.describe()"
   ]
  },
  {
   "cell_type": "markdown",
   "metadata": {},
   "source": [
    "## Rimozione"
   ]
  },
  {
   "cell_type": "markdown",
   "metadata": {},
   "source": [
    "### Drop"
   ]
  },
  {
   "cell_type": "code",
   "execution_count": 8,
   "metadata": {},
   "outputs": [
    {
     "data": {
      "text/html": [
       "<div>\n",
       "<style scoped>\n",
       "    .dataframe tbody tr th:only-of-type {\n",
       "        vertical-align: middle;\n",
       "    }\n",
       "\n",
       "    .dataframe tbody tr th {\n",
       "        vertical-align: top;\n",
       "    }\n",
       "\n",
       "    .dataframe thead th {\n",
       "        text-align: right;\n",
       "    }\n",
       "</style>\n",
       "<table border=\"1\" class=\"dataframe\">\n",
       "  <thead>\n",
       "    <tr style=\"text-align: right;\">\n",
       "      <th></th>\n",
       "      <th>a</th>\n",
       "      <th>b</th>\n",
       "      <th>c</th>\n",
       "      <th>d</th>\n",
       "    </tr>\n",
       "  </thead>\n",
       "  <tbody>\n",
       "    <tr>\n",
       "      <th>0</th>\n",
       "      <td>1</td>\n",
       "      <td>2</td>\n",
       "      <td>3</td>\n",
       "      <td>Hello</td>\n",
       "    </tr>\n",
       "    <tr>\n",
       "      <th>1</th>\n",
       "      <td>10</td>\n",
       "      <td>20</td>\n",
       "      <td>30</td>\n",
       "      <td>Data</td>\n",
       "    </tr>\n",
       "    <tr>\n",
       "      <th>2</th>\n",
       "      <td>100</td>\n",
       "      <td>200</td>\n",
       "      <td>300</td>\n",
       "      <td>Science</td>\n",
       "    </tr>\n",
       "  </tbody>\n",
       "</table>\n",
       "</div>"
      ],
      "text/plain": [
       "     a    b    c        d\n",
       "0    1    2    3    Hello\n",
       "1   10   20   30     Data\n",
       "2  100  200  300  Science"
      ]
     },
     "execution_count": 8,
     "metadata": {},
     "output_type": "execute_result"
    }
   ],
   "source": [
    "# Please note that a data frame has a row identifier column associated with values associated for each row.\n",
    "tmp = pd.DataFrame([ \n",
    "    [1, 2, 3, \"Hello\"], \n",
    "    [10, 20, 30, \"Data\"], \n",
    "    [100, 200, 300, \"Science\"] \n",
    "], \n",
    "    columns=[\"a\", \"b\", \"c\", \"d\"]) \n",
    "\n",
    "tmp"
   ]
  },
  {
   "cell_type": "code",
   "execution_count": 9,
   "metadata": {},
   "outputs": [
    {
     "data": {
      "text/html": [
       "<div>\n",
       "<style scoped>\n",
       "    .dataframe tbody tr th:only-of-type {\n",
       "        vertical-align: middle;\n",
       "    }\n",
       "\n",
       "    .dataframe tbody tr th {\n",
       "        vertical-align: top;\n",
       "    }\n",
       "\n",
       "    .dataframe thead th {\n",
       "        text-align: right;\n",
       "    }\n",
       "</style>\n",
       "<table border=\"1\" class=\"dataframe\">\n",
       "  <thead>\n",
       "    <tr style=\"text-align: right;\">\n",
       "      <th></th>\n",
       "      <th>a</th>\n",
       "      <th>b</th>\n",
       "      <th>c</th>\n",
       "      <th>d</th>\n",
       "    </tr>\n",
       "  </thead>\n",
       "  <tbody>\n",
       "    <tr>\n",
       "      <th>0</th>\n",
       "      <td>1</td>\n",
       "      <td>2</td>\n",
       "      <td>3</td>\n",
       "      <td>Hello</td>\n",
       "    </tr>\n",
       "    <tr>\n",
       "      <th>2</th>\n",
       "      <td>100</td>\n",
       "      <td>200</td>\n",
       "      <td>300</td>\n",
       "      <td>Science</td>\n",
       "    </tr>\n",
       "  </tbody>\n",
       "</table>\n",
       "</div>"
      ],
      "text/plain": [
       "     a    b    c        d\n",
       "0    1    2    3    Hello\n",
       "2  100  200  300  Science"
      ]
     },
     "execution_count": 9,
     "metadata": {},
     "output_type": "execute_result"
    }
   ],
   "source": [
    "# Drop row with index = 1\n",
    "tmp.drop([1])"
   ]
  },
  {
   "cell_type": "code",
   "execution_count": 10,
   "metadata": {},
   "outputs": [
    {
     "data": {
      "text/html": [
       "<div>\n",
       "<style scoped>\n",
       "    .dataframe tbody tr th:only-of-type {\n",
       "        vertical-align: middle;\n",
       "    }\n",
       "\n",
       "    .dataframe tbody tr th {\n",
       "        vertical-align: top;\n",
       "    }\n",
       "\n",
       "    .dataframe thead th {\n",
       "        text-align: right;\n",
       "    }\n",
       "</style>\n",
       "<table border=\"1\" class=\"dataframe\">\n",
       "  <thead>\n",
       "    <tr style=\"text-align: right;\">\n",
       "      <th></th>\n",
       "      <th>a</th>\n",
       "      <th>b</th>\n",
       "      <th>c</th>\n",
       "      <th>d</th>\n",
       "    </tr>\n",
       "  </thead>\n",
       "  <tbody>\n",
       "    <tr>\n",
       "      <th>0</th>\n",
       "      <td>1</td>\n",
       "      <td>2</td>\n",
       "      <td>3</td>\n",
       "      <td>Hello</td>\n",
       "    </tr>\n",
       "    <tr>\n",
       "      <th>1</th>\n",
       "      <td>10</td>\n",
       "      <td>20</td>\n",
       "      <td>30</td>\n",
       "      <td>Data</td>\n",
       "    </tr>\n",
       "    <tr>\n",
       "      <th>2</th>\n",
       "      <td>100</td>\n",
       "      <td>200</td>\n",
       "      <td>300</td>\n",
       "      <td>Science</td>\n",
       "    </tr>\n",
       "  </tbody>\n",
       "</table>\n",
       "</div>"
      ],
      "text/plain": [
       "     a    b    c        d\n",
       "0    1    2    3    Hello\n",
       "1   10   20   30     Data\n",
       "2  100  200  300  Science"
      ]
     },
     "execution_count": 10,
     "metadata": {},
     "output_type": "execute_result"
    }
   ],
   "source": [
    "tmp"
   ]
  },
  {
   "cell_type": "code",
   "execution_count": 11,
   "metadata": {},
   "outputs": [
    {
     "data": {
      "text/html": [
       "<div>\n",
       "<style scoped>\n",
       "    .dataframe tbody tr th:only-of-type {\n",
       "        vertical-align: middle;\n",
       "    }\n",
       "\n",
       "    .dataframe tbody tr th {\n",
       "        vertical-align: top;\n",
       "    }\n",
       "\n",
       "    .dataframe thead th {\n",
       "        text-align: right;\n",
       "    }\n",
       "</style>\n",
       "<table border=\"1\" class=\"dataframe\">\n",
       "  <thead>\n",
       "    <tr style=\"text-align: right;\">\n",
       "      <th></th>\n",
       "      <th>a</th>\n",
       "      <th>b</th>\n",
       "      <th>c</th>\n",
       "      <th>d</th>\n",
       "    </tr>\n",
       "  </thead>\n",
       "  <tbody>\n",
       "    <tr>\n",
       "      <th>1</th>\n",
       "      <td>10</td>\n",
       "      <td>20</td>\n",
       "      <td>30</td>\n",
       "      <td>Data</td>\n",
       "    </tr>\n",
       "  </tbody>\n",
       "</table>\n",
       "</div>"
      ],
      "text/plain": [
       "    a   b   c     d\n",
       "1  10  20  30  Data"
      ]
     },
     "execution_count": 11,
     "metadata": {},
     "output_type": "execute_result"
    }
   ],
   "source": [
    "# Drop row with index = 0,2\n",
    "tmp.drop([0, 2])"
   ]
  },
  {
   "cell_type": "code",
   "execution_count": 12,
   "metadata": {},
   "outputs": [
    {
     "data": {
      "text/html": [
       "<div>\n",
       "<style scoped>\n",
       "    .dataframe tbody tr th:only-of-type {\n",
       "        vertical-align: middle;\n",
       "    }\n",
       "\n",
       "    .dataframe tbody tr th {\n",
       "        vertical-align: top;\n",
       "    }\n",
       "\n",
       "    .dataframe thead th {\n",
       "        text-align: right;\n",
       "    }\n",
       "</style>\n",
       "<table border=\"1\" class=\"dataframe\">\n",
       "  <thead>\n",
       "    <tr style=\"text-align: right;\">\n",
       "      <th></th>\n",
       "      <th>a</th>\n",
       "      <th>d</th>\n",
       "    </tr>\n",
       "  </thead>\n",
       "  <tbody>\n",
       "    <tr>\n",
       "      <th>0</th>\n",
       "      <td>1</td>\n",
       "      <td>Hello</td>\n",
       "    </tr>\n",
       "    <tr>\n",
       "      <th>1</th>\n",
       "      <td>10</td>\n",
       "      <td>Data</td>\n",
       "    </tr>\n",
       "    <tr>\n",
       "      <th>2</th>\n",
       "      <td>100</td>\n",
       "      <td>Science</td>\n",
       "    </tr>\n",
       "  </tbody>\n",
       "</table>\n",
       "</div>"
      ],
      "text/plain": [
       "     a        d\n",
       "0    1    Hello\n",
       "1   10     Data\n",
       "2  100  Science"
      ]
     },
     "execution_count": 12,
     "metadata": {},
     "output_type": "execute_result"
    }
   ],
   "source": [
    "# Drop rows with specific values in a given series / colum\n",
    "tmp.drop([\"b\", \"c\"], axis=1)"
   ]
  },
  {
   "cell_type": "code",
   "execution_count": 13,
   "metadata": {},
   "outputs": [
    {
     "data": {
      "text/html": [
       "<div>\n",
       "<style scoped>\n",
       "    .dataframe tbody tr th:only-of-type {\n",
       "        vertical-align: middle;\n",
       "    }\n",
       "\n",
       "    .dataframe tbody tr th {\n",
       "        vertical-align: top;\n",
       "    }\n",
       "\n",
       "    .dataframe thead th {\n",
       "        text-align: right;\n",
       "    }\n",
       "</style>\n",
       "<table border=\"1\" class=\"dataframe\">\n",
       "  <thead>\n",
       "    <tr style=\"text-align: right;\">\n",
       "      <th></th>\n",
       "      <th>a</th>\n",
       "      <th>d</th>\n",
       "    </tr>\n",
       "  </thead>\n",
       "  <tbody>\n",
       "    <tr>\n",
       "      <th>0</th>\n",
       "      <td>1</td>\n",
       "      <td>Hello</td>\n",
       "    </tr>\n",
       "    <tr>\n",
       "      <th>1</th>\n",
       "      <td>10</td>\n",
       "      <td>Data</td>\n",
       "    </tr>\n",
       "    <tr>\n",
       "      <th>2</th>\n",
       "      <td>100</td>\n",
       "      <td>Science</td>\n",
       "    </tr>\n",
       "  </tbody>\n",
       "</table>\n",
       "</div>"
      ],
      "text/plain": [
       "     a        d\n",
       "0    1    Hello\n",
       "1   10     Data\n",
       "2  100  Science"
      ]
     },
     "execution_count": 13,
     "metadata": {},
     "output_type": "execute_result"
    }
   ],
   "source": [
    "tmp.drop([\"b\", \"c\"], axis='columns')"
   ]
  },
  {
   "cell_type": "markdown",
   "metadata": {},
   "source": [
    "### Dropna"
   ]
  },
  {
   "cell_type": "code",
   "execution_count": 14,
   "metadata": {},
   "outputs": [
    {
     "data": {
      "text/html": [
       "<div>\n",
       "<style scoped>\n",
       "    .dataframe tbody tr th:only-of-type {\n",
       "        vertical-align: middle;\n",
       "    }\n",
       "\n",
       "    .dataframe tbody tr th {\n",
       "        vertical-align: top;\n",
       "    }\n",
       "\n",
       "    .dataframe thead th {\n",
       "        text-align: right;\n",
       "    }\n",
       "</style>\n",
       "<table border=\"1\" class=\"dataframe\">\n",
       "  <thead>\n",
       "    <tr style=\"text-align: right;\">\n",
       "      <th></th>\n",
       "      <th>a</th>\n",
       "      <th>b</th>\n",
       "      <th>c</th>\n",
       "      <th>d</th>\n",
       "    </tr>\n",
       "  </thead>\n",
       "  <tbody>\n",
       "    <tr>\n",
       "      <th>0</th>\n",
       "      <td>1</td>\n",
       "      <td>2.0</td>\n",
       "      <td>3</td>\n",
       "      <td>None</td>\n",
       "    </tr>\n",
       "    <tr>\n",
       "      <th>1</th>\n",
       "      <td>10</td>\n",
       "      <td>20.0</td>\n",
       "      <td>30</td>\n",
       "      <td>Data</td>\n",
       "    </tr>\n",
       "    <tr>\n",
       "      <th>2</th>\n",
       "      <td>100</td>\n",
       "      <td>NaN</td>\n",
       "      <td>300</td>\n",
       "      <td>Science</td>\n",
       "    </tr>\n",
       "  </tbody>\n",
       "</table>\n",
       "</div>"
      ],
      "text/plain": [
       "     a     b    c        d\n",
       "0    1   2.0    3     None\n",
       "1   10  20.0   30     Data\n",
       "2  100   NaN  300  Science"
      ]
     },
     "execution_count": 14,
     "metadata": {},
     "output_type": "execute_result"
    }
   ],
   "source": [
    "# a dataframe with some missing values\n",
    "tmp = pd.DataFrame([ \n",
    "    [1, 2, 3, None], \n",
    "    [10, 20, 30, \"Data\"], \n",
    "    [100, None, 300, \"Science\"] \n",
    "], \n",
    "    columns=[\"a\", \"b\", \"c\", \"d\"]) \n",
    "tmp\n"
   ]
  },
  {
   "cell_type": "code",
   "execution_count": 15,
   "metadata": {},
   "outputs": [
    {
     "data": {
      "text/html": [
       "<div>\n",
       "<style scoped>\n",
       "    .dataframe tbody tr th:only-of-type {\n",
       "        vertical-align: middle;\n",
       "    }\n",
       "\n",
       "    .dataframe tbody tr th {\n",
       "        vertical-align: top;\n",
       "    }\n",
       "\n",
       "    .dataframe thead th {\n",
       "        text-align: right;\n",
       "    }\n",
       "</style>\n",
       "<table border=\"1\" class=\"dataframe\">\n",
       "  <thead>\n",
       "    <tr style=\"text-align: right;\">\n",
       "      <th></th>\n",
       "      <th>a</th>\n",
       "      <th>b</th>\n",
       "      <th>c</th>\n",
       "      <th>d</th>\n",
       "    </tr>\n",
       "  </thead>\n",
       "  <tbody>\n",
       "    <tr>\n",
       "      <th>1</th>\n",
       "      <td>10</td>\n",
       "      <td>20.0</td>\n",
       "      <td>30</td>\n",
       "      <td>Data</td>\n",
       "    </tr>\n",
       "  </tbody>\n",
       "</table>\n",
       "</div>"
      ],
      "text/plain": [
       "    a     b   c     d\n",
       "1  10  20.0  30  Data"
      ]
     },
     "execution_count": 15,
     "metadata": {},
     "output_type": "execute_result"
    }
   ],
   "source": [
    "# Remove rows with missing values, None, NaN and so on.\n",
    "tmp.dropna()"
   ]
  },
  {
   "cell_type": "markdown",
   "metadata": {},
   "source": [
    "## Selection"
   ]
  },
  {
   "cell_type": "code",
   "execution_count": 16,
   "metadata": {},
   "outputs": [
    {
     "data": {
      "text/html": [
       "<div>\n",
       "<style scoped>\n",
       "    .dataframe tbody tr th:only-of-type {\n",
       "        vertical-align: middle;\n",
       "    }\n",
       "\n",
       "    .dataframe tbody tr th {\n",
       "        vertical-align: top;\n",
       "    }\n",
       "\n",
       "    .dataframe thead th {\n",
       "        text-align: right;\n",
       "    }\n",
       "</style>\n",
       "<table border=\"1\" class=\"dataframe\">\n",
       "  <thead>\n",
       "    <tr style=\"text-align: right;\">\n",
       "      <th></th>\n",
       "      <th>Name</th>\n",
       "      <th>Age</th>\n",
       "      <th>Gender</th>\n",
       "      <th>Citizenship</th>\n",
       "      <th>FavouriteFood</th>\n",
       "    </tr>\n",
       "  </thead>\n",
       "  <tbody>\n",
       "    <tr>\n",
       "      <th>0</th>\n",
       "      <td>Braund, Mr. Owen Harris</td>\n",
       "      <td>22</td>\n",
       "      <td>male</td>\n",
       "      <td>English</td>\n",
       "      <td>Pudding</td>\n",
       "    </tr>\n",
       "    <tr>\n",
       "      <th>1</th>\n",
       "      <td>Rossi, Sig.ra Miriana</td>\n",
       "      <td>35</td>\n",
       "      <td>female</td>\n",
       "      <td>Italian</td>\n",
       "      <td>Cotoletta alla Milanese</td>\n",
       "    </tr>\n",
       "    <tr>\n",
       "      <th>2</th>\n",
       "      <td>Wolf, Herr Gustav</td>\n",
       "      <td>34</td>\n",
       "      <td>male</td>\n",
       "      <td>German</td>\n",
       "      <td>Bratwurst</td>\n",
       "    </tr>\n",
       "    <tr>\n",
       "      <th>3</th>\n",
       "      <td>Bergerac, M.me Justine</td>\n",
       "      <td>58</td>\n",
       "      <td>female</td>\n",
       "      <td>French</td>\n",
       "      <td>Soupe De Poisson</td>\n",
       "    </tr>\n",
       "    <tr>\n",
       "      <th>4</th>\n",
       "      <td>Consonni, Sig.ra Susanna</td>\n",
       "      <td>56</td>\n",
       "      <td>female</td>\n",
       "      <td>Italian</td>\n",
       "      <td>Pizza</td>\n",
       "    </tr>\n",
       "  </tbody>\n",
       "</table>\n",
       "</div>"
      ],
      "text/plain": [
       "                       Name  Age  Gender Citizenship            FavouriteFood\n",
       "0   Braund, Mr. Owen Harris   22    male     English                  Pudding\n",
       "1     Rossi, Sig.ra Miriana   35  female     Italian  Cotoletta alla Milanese\n",
       "2         Wolf, Herr Gustav   34    male      German                Bratwurst\n",
       "3    Bergerac, M.me Justine   58  female      French         Soupe De Poisson\n",
       "4  Consonni, Sig.ra Susanna   56  female     Italian                    Pizza"
      ]
     },
     "execution_count": 16,
     "metadata": {},
     "output_type": "execute_result"
    }
   ],
   "source": [
    "data"
   ]
  },
  {
   "cell_type": "code",
   "execution_count": 17,
   "metadata": {
    "tags": []
   },
   "outputs": [
    {
     "name": "stdout",
     "output_type": "stream",
     "text": [
      "row at index 0\n",
      "Name             Braund, Mr. Owen Harris\n",
      "Age                                   22\n",
      "Gender                              male\n",
      "Citizenship                      English\n",
      "FavouriteFood                    Pudding\n",
      "Name: 0, dtype: object\n",
      "<class 'pandas.core.series.Series'>\n",
      "\n",
      "row at index 1\n",
      "Name               Rossi, Sig.ra Miriana\n",
      "Age                                   35\n",
      "Gender                            female\n",
      "Citizenship                      Italian\n",
      "FavouriteFood    Cotoletta alla Milanese\n",
      "Name: 1, dtype: object\n",
      "\n",
      "row at index 2\n",
      "Name             Wolf, Herr Gustav\n",
      "Age                             34\n",
      "Gender                        male\n",
      "Citizenship                 German\n",
      "FavouriteFood            Bratwurst\n",
      "Name: 2, dtype: object\n"
     ]
    }
   ],
   "source": [
    "# 1st row\n",
    "sel = data.iloc[ 0 ]\n",
    "print( \"row at index 0\" )\n",
    "print( sel )\n",
    "print( type(sel) )\n",
    "print( )\n",
    "\n",
    "# 2nd row\n",
    "print( \"row at index 1\" )\n",
    "print(data.iloc[ 1 ])\n",
    "print( )\n",
    "\n",
    "# 3rd row\n",
    "print( \"row at index 2\" )\n",
    "print(data.iloc[ 2 ])\n"
   ]
  },
  {
   "cell_type": "code",
   "execution_count": 18,
   "metadata": {
    "tags": []
   },
   "outputs": [
    {
     "name": "stdout",
     "output_type": "stream",
     "text": [
      "(5, 5)\n",
      "\n",
      "all in one row\n",
      "Name             Consonni, Sig.ra Susanna\n",
      "Age                                    56\n",
      "Gender                             female\n",
      "Citizenship                       Italian\n",
      "FavouriteFood                       Pizza\n",
      "Name: 4, dtype: object\n",
      "all expanded\n",
      "Name             Consonni, Sig.ra Susanna\n",
      "Age                                    56\n",
      "Gender                             female\n",
      "Citizenship                       Italian\n",
      "FavouriteFood                       Pizza\n",
      "Name: 4, dtype: object\n",
      "but there's a easier way\n",
      "Name             Consonni, Sig.ra Susanna\n",
      "Age                                    56\n",
      "Gender                             female\n",
      "Citizenship                       Italian\n",
      "FavouriteFood                       Pizza\n",
      "Name: 4, dtype: object\n"
     ]
    }
   ],
   "source": [
    "# last row\n",
    "print(data.shape)\n",
    "print()\n",
    "\n",
    "print(\"all in one row\")\n",
    "print(data.iloc[data.shape[0]-1])\n",
    "\n",
    "print(\"all expanded\")\n",
    "dimensions = data.shape\n",
    "number_of_rows = dimensions[0]\n",
    "last_index = number_of_rows - 1\n",
    "last_row = data.iloc[ last_index ]\n",
    "print( last_row )\n",
    "\n",
    "print(\"but there's a easier way\")\n",
    "print(data.iloc[-1])\n"
   ]
  },
  {
   "cell_type": "code",
   "execution_count": 19,
   "metadata": {
    "tags": []
   },
   "outputs": [
    {
     "name": "stdout",
     "output_type": "stream",
     "text": [
      "                    Name  Age  Gender Citizenship            FavouriteFood\n",
      "1  Rossi, Sig.ra Miriana   35  female     Italian  Cotoletta alla Milanese\n",
      "2      Wolf, Herr Gustav   34    male      German                Bratwurst\n"
     ]
    }
   ],
   "source": [
    "# rows with indexes in interval [1, 3)\n",
    "print(data.iloc[1:3])\n"
   ]
  },
  {
   "cell_type": "code",
   "execution_count": 20,
   "metadata": {
    "tags": []
   },
   "outputs": [
    {
     "name": "stdout",
     "output_type": "stream",
     "text": [
      "                       Name  Age  Gender Citizenship FavouriteFood\n",
      "0   Braund, Mr. Owen Harris   22    male     English       Pudding\n",
      "2         Wolf, Herr Gustav   34    male      German     Bratwurst\n",
      "4  Consonni, Sig.ra Susanna   56  female     Italian         Pizza\n"
     ]
    }
   ],
   "source": [
    "# rows with indexes specified in an array\n",
    "print(\n",
    "    data.iloc[\n",
    "        [0, 2, 4]\n",
    "    ]\n",
    ")"
   ]
  },
  {
   "cell_type": "code",
   "execution_count": 21,
   "metadata": {},
   "outputs": [
    {
     "data": {
      "text/html": [
       "<div>\n",
       "<style scoped>\n",
       "    .dataframe tbody tr th:only-of-type {\n",
       "        vertical-align: middle;\n",
       "    }\n",
       "\n",
       "    .dataframe tbody tr th {\n",
       "        vertical-align: top;\n",
       "    }\n",
       "\n",
       "    .dataframe thead th {\n",
       "        text-align: right;\n",
       "    }\n",
       "</style>\n",
       "<table border=\"1\" class=\"dataframe\">\n",
       "  <thead>\n",
       "    <tr style=\"text-align: right;\">\n",
       "      <th></th>\n",
       "      <th>Name</th>\n",
       "      <th>Age</th>\n",
       "      <th>Gender</th>\n",
       "      <th>Citizenship</th>\n",
       "      <th>FavouriteFood</th>\n",
       "    </tr>\n",
       "  </thead>\n",
       "  <tbody>\n",
       "    <tr>\n",
       "      <th>0</th>\n",
       "      <td>Braund, Mr. Owen Harris</td>\n",
       "      <td>22</td>\n",
       "      <td>male</td>\n",
       "      <td>English</td>\n",
       "      <td>Pudding</td>\n",
       "    </tr>\n",
       "    <tr>\n",
       "      <th>1</th>\n",
       "      <td>Rossi, Sig.ra Miriana</td>\n",
       "      <td>35</td>\n",
       "      <td>female</td>\n",
       "      <td>Italian</td>\n",
       "      <td>Cotoletta alla Milanese</td>\n",
       "    </tr>\n",
       "    <tr>\n",
       "      <th>2</th>\n",
       "      <td>Wolf, Herr Gustav</td>\n",
       "      <td>34</td>\n",
       "      <td>male</td>\n",
       "      <td>German</td>\n",
       "      <td>Bratwurst</td>\n",
       "    </tr>\n",
       "    <tr>\n",
       "      <th>3</th>\n",
       "      <td>Bergerac, M.me Justine</td>\n",
       "      <td>58</td>\n",
       "      <td>female</td>\n",
       "      <td>French</td>\n",
       "      <td>Soupe De Poisson</td>\n",
       "    </tr>\n",
       "    <tr>\n",
       "      <th>4</th>\n",
       "      <td>Consonni, Sig.ra Susanna</td>\n",
       "      <td>56</td>\n",
       "      <td>female</td>\n",
       "      <td>Italian</td>\n",
       "      <td>Pizza</td>\n",
       "    </tr>\n",
       "  </tbody>\n",
       "</table>\n",
       "</div>"
      ],
      "text/plain": [
       "                       Name  Age  Gender Citizenship            FavouriteFood\n",
       "0   Braund, Mr. Owen Harris   22    male     English                  Pudding\n",
       "1     Rossi, Sig.ra Miriana   35  female     Italian  Cotoletta alla Milanese\n",
       "2         Wolf, Herr Gustav   34    male      German                Bratwurst\n",
       "3    Bergerac, M.me Justine   58  female      French         Soupe De Poisson\n",
       "4  Consonni, Sig.ra Susanna   56  female     Italian                    Pizza"
      ]
     },
     "execution_count": 21,
     "metadata": {},
     "output_type": "execute_result"
    }
   ],
   "source": [
    "data"
   ]
  },
  {
   "cell_type": "code",
   "execution_count": 22,
   "metadata": {},
   "outputs": [
    {
     "data": {
      "text/plain": [
       "'Wolf, Herr Gustav'"
      ]
     },
     "execution_count": 22,
     "metadata": {},
     "output_type": "execute_result"
    }
   ],
   "source": [
    "# select row and column\n",
    "data.iloc[ 2, 0 ]"
   ]
  },
  {
   "cell_type": "code",
   "execution_count": 23,
   "metadata": {},
   "outputs": [
    {
     "data": {
      "text/plain": [
       "'German'"
      ]
     },
     "execution_count": 23,
     "metadata": {},
     "output_type": "execute_result"
    }
   ],
   "source": [
    "# select row and column\n",
    "data.iloc[ 2, 3 ]"
   ]
  },
  {
   "cell_type": "code",
   "execution_count": 24,
   "metadata": {},
   "outputs": [
    {
     "data": {
      "text/plain": [
       "'Bratwurst'"
      ]
     },
     "execution_count": 24,
     "metadata": {},
     "output_type": "execute_result"
    }
   ],
   "source": [
    "# select row and column\n",
    "data.iloc[ 2, -1 ]"
   ]
  }
 ],
 "metadata": {
  "kernelspec": {
   "display_name": "Python 3",
   "language": "python",
   "name": "python3"
  },
  "language_info": {
   "codemirror_mode": {
    "name": "ipython",
    "version": 3
   },
   "file_extension": ".py",
   "mimetype": "text/x-python",
   "name": "python",
   "nbconvert_exporter": "python",
   "pygments_lexer": "ipython3",
   "version": "3.7.6"
  }
 },
 "nbformat": 4,
 "nbformat_minor": 4
}
