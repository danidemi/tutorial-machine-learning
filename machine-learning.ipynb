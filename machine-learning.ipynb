{
 "cells": [
  {
   "cell_type": "markdown",
   "metadata": {},
   "source": [
    "## Sorgenti Dati\n",
    "\n",
    "Sorgenti varie\n",
    "* http://archive.ics.uci.edu/ml/\n",
    "* https://www.kaggle.com/datasets\n",
    "* https://registry.opendata.aws/\n",
    "* https://www.dati.gov.it\n",
    "\n",
    "Aggregatori\n",
    "* http://dataportals.org/\n",
    "* http://opendatamonitor.eu/\n",
    "* http://quandl.com/\n",
    "* https://homl.info/9\n",
    "* https://homl.info/10\n",
    "* https://www.reddit.com/r/datasets\n",
    "* http://lib.stat.cmu.edu/datasets/\n",
    "\n"
   ]
  }
 ],
 "metadata": {
  "kernelspec": {
   "display_name": "Python 3",
   "language": "python",
   "name": "python3"
  },
  "language_info": {
   "codemirror_mode": {
    "name": "ipython",
    "version": 3
   },
   "file_extension": ".py",
   "mimetype": "text/x-python",
   "name": "python",
   "nbconvert_exporter": "python",
   "pygments_lexer": "ipython3",
   "version": "3.7.6"
  }
 },
 "nbformat": 4,
 "nbformat_minor": 4
}
